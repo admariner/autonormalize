{
 "cells": [
  {
   "cell_type": "markdown",
   "metadata": {},
   "source": [
    "# AUTONORMALIZE DEMO \n",
    "Using Autonormalize to normalize a kaggle dataset about food purchasing."
   ]
  },
  {
   "cell_type": "markdown",
   "metadata": {},
   "source": [
    "You can find the dataset for this demo on kaggle at https://www.kaggle.com/roshansharma/world-food-production."
   ]
  },
  {
   "cell_type": "code",
   "execution_count": 1,
   "metadata": {},
   "outputs": [],
   "source": [
    "import os\n",
    "\n",
    "import pandas as pd\n",
    "from featuretools.autonormalize import autonormalize as an"
   ]
  },
  {
   "cell_type": "code",
   "execution_count": 2,
   "metadata": {},
   "outputs": [
    {
     "data": {
      "text/html": [
       "<div>\n",
       "<style scoped>\n",
       "    .dataframe tbody tr th:only-of-type {\n",
       "        vertical-align: middle;\n",
       "    }\n",
       "\n",
       "    .dataframe tbody tr th {\n",
       "        vertical-align: top;\n",
       "    }\n",
       "\n",
       "    .dataframe thead th {\n",
       "        text-align: right;\n",
       "    }\n",
       "</style>\n",
       "<table border=\"1\" class=\"dataframe\">\n",
       "  <thead>\n",
       "    <tr style=\"text-align: right;\">\n",
       "      <th></th>\n",
       "      <th>Area Abbreviation</th>\n",
       "      <th>Area Code</th>\n",
       "      <th>Area</th>\n",
       "      <th>Item Code</th>\n",
       "      <th>Item</th>\n",
       "      <th>Element Code</th>\n",
       "      <th>Element</th>\n",
       "      <th>Unit</th>\n",
       "      <th>latitude</th>\n",
       "      <th>longitude</th>\n",
       "    </tr>\n",
       "  </thead>\n",
       "  <tbody>\n",
       "    <tr>\n",
       "      <th>0</th>\n",
       "      <td>AFG</td>\n",
       "      <td>2</td>\n",
       "      <td>Afghanistan</td>\n",
       "      <td>2511</td>\n",
       "      <td>Wheat and products</td>\n",
       "      <td>5142</td>\n",
       "      <td>Food</td>\n",
       "      <td>1000 tonnes</td>\n",
       "      <td>33.94</td>\n",
       "      <td>67.71</td>\n",
       "    </tr>\n",
       "    <tr>\n",
       "      <th>1</th>\n",
       "      <td>AFG</td>\n",
       "      <td>2</td>\n",
       "      <td>Afghanistan</td>\n",
       "      <td>2805</td>\n",
       "      <td>Rice (Milled Equivalent)</td>\n",
       "      <td>5142</td>\n",
       "      <td>Food</td>\n",
       "      <td>1000 tonnes</td>\n",
       "      <td>33.94</td>\n",
       "      <td>67.71</td>\n",
       "    </tr>\n",
       "    <tr>\n",
       "      <th>2</th>\n",
       "      <td>AFG</td>\n",
       "      <td>2</td>\n",
       "      <td>Afghanistan</td>\n",
       "      <td>2513</td>\n",
       "      <td>Barley and products</td>\n",
       "      <td>5521</td>\n",
       "      <td>Feed</td>\n",
       "      <td>1000 tonnes</td>\n",
       "      <td>33.94</td>\n",
       "      <td>67.71</td>\n",
       "    </tr>\n",
       "    <tr>\n",
       "      <th>3</th>\n",
       "      <td>AFG</td>\n",
       "      <td>2</td>\n",
       "      <td>Afghanistan</td>\n",
       "      <td>2513</td>\n",
       "      <td>Barley and products</td>\n",
       "      <td>5142</td>\n",
       "      <td>Food</td>\n",
       "      <td>1000 tonnes</td>\n",
       "      <td>33.94</td>\n",
       "      <td>67.71</td>\n",
       "    </tr>\n",
       "    <tr>\n",
       "      <th>4</th>\n",
       "      <td>AFG</td>\n",
       "      <td>2</td>\n",
       "      <td>Afghanistan</td>\n",
       "      <td>2514</td>\n",
       "      <td>Maize and products</td>\n",
       "      <td>5521</td>\n",
       "      <td>Feed</td>\n",
       "      <td>1000 tonnes</td>\n",
       "      <td>33.94</td>\n",
       "      <td>67.71</td>\n",
       "    </tr>\n",
       "  </tbody>\n",
       "</table>\n",
       "</div>"
      ],
      "text/plain": [
       "  Area Abbreviation  Area Code         Area  Item Code  \\\n",
       "0               AFG          2  Afghanistan       2511   \n",
       "1               AFG          2  Afghanistan       2805   \n",
       "2               AFG          2  Afghanistan       2513   \n",
       "3               AFG          2  Afghanistan       2513   \n",
       "4               AFG          2  Afghanistan       2514   \n",
       "\n",
       "                       Item  Element Code Element         Unit  latitude  \\\n",
       "0        Wheat and products          5142    Food  1000 tonnes     33.94   \n",
       "1  Rice (Milled Equivalent)          5142    Food  1000 tonnes     33.94   \n",
       "2       Barley and products          5521    Feed  1000 tonnes     33.94   \n",
       "3       Barley and products          5142    Food  1000 tonnes     33.94   \n",
       "4        Maize and products          5521    Feed  1000 tonnes     33.94   \n",
       "\n",
       "   longitude  \n",
       "0      67.71  \n",
       "1      67.71  \n",
       "2      67.71  \n",
       "3      67.71  \n",
       "4      67.71  "
      ]
     },
     "execution_count": 2,
     "metadata": {},
     "output_type": "execute_result"
    }
   ],
   "source": [
    "food_df = pd.read_csv(os.path.abspath(os.path.join('..','..', 'autonormalize/downloads/food.csv')), encoding='latin1')\n",
    "food_df = food_df.drop(columns=food_df.columns[10:])\n",
    "food_df.head()"
   ]
  },
  {
   "cell_type": "code",
   "execution_count": 3,
   "metadata": {},
   "outputs": [
    {
     "name": "stderr",
     "output_type": "stream",
     "text": [
      "100%|██████████| 10/10 [00:06<00:00,  1.68it/s]\n"
     ]
    }
   ],
   "source": [
    "entityset = an.auto_entityset(food_df, name='Foods')"
   ]
  },
  {
   "cell_type": "code",
   "execution_count": 4,
   "metadata": {},
   "outputs": [
    {
     "data": {
      "text/plain": [
       "Entityset: Foods\n",
       "  Entities:\n",
       "    Item Code_Element Code_Area Code [Rows: 21477, Columns: 4]\n",
       "    Element Code [Rows: 2, Columns: 2]\n",
       "    Item Code [Rows: 117, Columns: 2]\n",
       "    Area Code [Rows: 174, Columns: 5]\n",
       "    Area Abbreviation [Rows: 169, Columns: 2]\n",
       "  Relationships:\n",
       "    Item Code_Element Code_Area Code.Area Code -> Area Code.Area Code\n",
       "    Item Code_Element Code_Area Code.Item Code -> Item Code.Item Code\n",
       "    Item Code_Element Code_Area Code.Element Code -> Element Code.Element Code\n",
       "    Area Code.Area Abbreviation -> Area Abbreviation.Area Abbreviation"
      ]
     },
     "execution_count": 4,
     "metadata": {},
     "output_type": "execute_result"
    }
   ],
   "source": [
    "entityset"
   ]
  },
  {
   "cell_type": "code",
   "execution_count": 5,
   "metadata": {},
   "outputs": [
    {
     "data": {
      "image/svg+xml": [
       "<?xml version=\"1.0\" encoding=\"UTF-8\" standalone=\"no\"?>\n",
       "<!DOCTYPE svg PUBLIC \"-//W3C//DTD SVG 1.1//EN\"\n",
       " \"http://www.w3.org/Graphics/SVG/1.1/DTD/svg11.dtd\">\n",
       "<!-- Generated by graphviz version 2.40.1 (20161225.0304)\n",
       " -->\n",
       "<!-- Title: Foods Pages: 1 -->\n",
       "<svg width=\"450pt\" height=\"327pt\"\n",
       " viewBox=\"0.00 0.00 449.75 327.00\" xmlns=\"http://www.w3.org/2000/svg\" xmlns:xlink=\"http://www.w3.org/1999/xlink\">\n",
       "<g id=\"graph0\" class=\"graph\" transform=\"scale(1 1) rotate(0) translate(4 323)\">\n",
       "<title>Foods</title>\n",
       "<polygon fill=\"#ffffff\" stroke=\"transparent\" points=\"-4,4 -4,-323 445.7451,-323 445.7451,4 -4,4\"/>\n",
       "<!-- Item Code_Element Code_Area Code -->\n",
       "<g id=\"node1\" class=\"node\">\n",
       "<title>Item Code_Element Code_Area Code</title>\n",
       "<polygon fill=\"none\" stroke=\"#000000\" points=\"78.5205,-232.5 78.5205,-318.5 349.1729,-318.5 349.1729,-232.5 78.5205,-232.5\"/>\n",
       "<text text-anchor=\"middle\" x=\"213.8467\" y=\"-303.3\" font-family=\"Times,serif\" font-size=\"14.00\" fill=\"#000000\">Item Code_Element Code_Area Code</text>\n",
       "<polyline fill=\"none\" stroke=\"#000000\" points=\"78.5205,-296.5 349.1729,-296.5 \"/>\n",
       "<text text-anchor=\"start\" x=\"86.5205\" y=\"-281.3\" font-family=\"Times,serif\" font-size=\"14.00\" fill=\"#000000\">Item Code_Element Code_Area Code : index</text>\n",
       "<text text-anchor=\"start\" x=\"86.5205\" y=\"-267.3\" font-family=\"Times,serif\" font-size=\"14.00\" fill=\"#000000\">Area Code : id</text>\n",
       "<text text-anchor=\"start\" x=\"86.5205\" y=\"-253.3\" font-family=\"Times,serif\" font-size=\"14.00\" fill=\"#000000\">Item Code : id</text>\n",
       "<text text-anchor=\"start\" x=\"86.5205\" y=\"-239.3\" font-family=\"Times,serif\" font-size=\"14.00\" fill=\"#000000\">Element Code : id</text>\n",
       "</g>\n",
       "<!-- Element Code -->\n",
       "<g id=\"node2\" class=\"node\">\n",
       "<title>Element Code</title>\n",
       "<polygon fill=\"none\" stroke=\"#000000\" points=\"0,-116.5 0,-174.5 137.6934,-174.5 137.6934,-116.5 0,-116.5\"/>\n",
       "<text text-anchor=\"middle\" x=\"68.8467\" y=\"-159.3\" font-family=\"Times,serif\" font-size=\"14.00\" fill=\"#000000\">Element Code</text>\n",
       "<polyline fill=\"none\" stroke=\"#000000\" points=\"0,-152.5 137.6934,-152.5 \"/>\n",
       "<text text-anchor=\"start\" x=\"8\" y=\"-137.3\" font-family=\"Times,serif\" font-size=\"14.00\" fill=\"#000000\">Element Code : index</text>\n",
       "<text text-anchor=\"start\" x=\"8\" y=\"-123.3\" font-family=\"Times,serif\" font-size=\"14.00\" fill=\"#000000\">Element : categorical</text>\n",
       "</g>\n",
       "<!-- Item Code_Element Code_Area Code&#45;&gt;Element Code -->\n",
       "<g id=\"edge3\" class=\"edge\">\n",
       "<title>Item Code_Element Code_Area Code&#45;&gt;Element Code</title>\n",
       "<path fill=\"none\" stroke=\"#000000\" d=\"M108.1069,-232.2119C108.1069,-232.2119 108.1069,-184.6745 108.1069,-184.6745\"/>\n",
       "<polygon fill=\"#000000\" stroke=\"#000000\" points=\"111.607,-184.6745 108.1069,-174.6745 104.607,-184.6746 111.607,-184.6745\"/>\n",
       "<text text-anchor=\"middle\" x=\"68.2568\" y=\"-211.2432\" font-family=\"Times,serif\" font-size=\"14.00\" fill=\"#000000\">Element Code</text>\n",
       "</g>\n",
       "<!-- Item Code -->\n",
       "<g id=\"node3\" class=\"node\">\n",
       "<title>Item Code</title>\n",
       "<polygon fill=\"none\" stroke=\"#000000\" points=\"155.4966,-116.5 155.4966,-174.5 272.1968,-174.5 272.1968,-116.5 155.4966,-116.5\"/>\n",
       "<text text-anchor=\"middle\" x=\"213.8467\" y=\"-159.3\" font-family=\"Times,serif\" font-size=\"14.00\" fill=\"#000000\">Item Code</text>\n",
       "<polyline fill=\"none\" stroke=\"#000000\" points=\"155.4966,-152.5 272.1968,-152.5 \"/>\n",
       "<text text-anchor=\"start\" x=\"163.4966\" y=\"-137.3\" font-family=\"Times,serif\" font-size=\"14.00\" fill=\"#000000\">Item Code : index</text>\n",
       "<text text-anchor=\"start\" x=\"163.4966\" y=\"-123.3\" font-family=\"Times,serif\" font-size=\"14.00\" fill=\"#000000\">Item : categorical</text>\n",
       "</g>\n",
       "<!-- Item Code_Element Code_Area Code&#45;&gt;Item Code -->\n",
       "<g id=\"edge2\" class=\"edge\">\n",
       "<title>Item Code_Element Code_Area Code&#45;&gt;Item Code</title>\n",
       "<path fill=\"none\" stroke=\"#000000\" d=\"M213.8467,-232.2119C213.8467,-232.2119 213.8467,-184.6745 213.8467,-184.6745\"/>\n",
       "<polygon fill=\"#000000\" stroke=\"#000000\" points=\"217.3468,-184.6745 213.8467,-174.6745 210.3468,-184.6746 217.3468,-184.6745\"/>\n",
       "<text text-anchor=\"middle\" x=\"184.4932\" y=\"-211.2432\" font-family=\"Times,serif\" font-size=\"14.00\" fill=\"#000000\">Item Code</text>\n",
       "</g>\n",
       "<!-- Area Code -->\n",
       "<g id=\"node4\" class=\"node\">\n",
       "<title>Area Code</title>\n",
       "<polygon fill=\"none\" stroke=\"#000000\" points=\"290.0552,-95.5 290.0552,-195.5 431.6382,-195.5 431.6382,-95.5 290.0552,-95.5\"/>\n",
       "<text text-anchor=\"middle\" x=\"360.8467\" y=\"-180.3\" font-family=\"Times,serif\" font-size=\"14.00\" fill=\"#000000\">Area Code</text>\n",
       "<polyline fill=\"none\" stroke=\"#000000\" points=\"290.0552,-173.5 431.6382,-173.5 \"/>\n",
       "<text text-anchor=\"start\" x=\"298.0552\" y=\"-158.3\" font-family=\"Times,serif\" font-size=\"14.00\" fill=\"#000000\">Area Code : index</text>\n",
       "<text text-anchor=\"start\" x=\"298.0552\" y=\"-144.3\" font-family=\"Times,serif\" font-size=\"14.00\" fill=\"#000000\">Area Abbreviation : id</text>\n",
       "<text text-anchor=\"start\" x=\"298.0552\" y=\"-130.3\" font-family=\"Times,serif\" font-size=\"14.00\" fill=\"#000000\">Area : categorical</text>\n",
       "<text text-anchor=\"start\" x=\"298.0552\" y=\"-116.3\" font-family=\"Times,serif\" font-size=\"14.00\" fill=\"#000000\">latitude : numeric</text>\n",
       "<text text-anchor=\"start\" x=\"298.0552\" y=\"-102.3\" font-family=\"Times,serif\" font-size=\"14.00\" fill=\"#000000\">longitude : numeric</text>\n",
       "</g>\n",
       "<!-- Item Code_Element Code_Area Code&#45;&gt;Area Code -->\n",
       "<g id=\"edge1\" class=\"edge\">\n",
       "<title>Item Code_Element Code_Area Code&#45;&gt;Area Code</title>\n",
       "<path fill=\"none\" stroke=\"#000000\" d=\"M319.614,-232.2119C319.614,-232.2119 319.614,-205.7992 319.614,-205.7992\"/>\n",
       "<polygon fill=\"#000000\" stroke=\"#000000\" points=\"323.1141,-205.7991 319.614,-195.7992 316.1141,-205.7992 323.1141,-205.7991\"/>\n",
       "<text text-anchor=\"middle\" x=\"289.488\" y=\"-207.8055\" font-family=\"Times,serif\" font-size=\"14.00\" fill=\"#000000\">Area Code</text>\n",
       "</g>\n",
       "<!-- Area Abbreviation -->\n",
       "<g id=\"node5\" class=\"node\">\n",
       "<title>Area Abbreviation</title>\n",
       "<polygon fill=\"none\" stroke=\"#000000\" points=\"279.9482,-.5 279.9482,-58.5 441.7451,-58.5 441.7451,-.5 279.9482,-.5\"/>\n",
       "<text text-anchor=\"middle\" x=\"360.8467\" y=\"-43.3\" font-family=\"Times,serif\" font-size=\"14.00\" fill=\"#000000\">Area Abbreviation</text>\n",
       "<polyline fill=\"none\" stroke=\"#000000\" points=\"279.9482,-36.5 441.7451,-36.5 \"/>\n",
       "<text text-anchor=\"start\" x=\"287.9482\" y=\"-21.3\" font-family=\"Times,serif\" font-size=\"14.00\" fill=\"#000000\">Area Abbreviation : index</text>\n",
       "<text text-anchor=\"start\" x=\"287.9482\" y=\"-7.3\" font-family=\"Times,serif\" font-size=\"14.00\" fill=\"#000000\">Unit : categorical</text>\n",
       "</g>\n",
       "<!-- Area Code&#45;&gt;Area Abbreviation -->\n",
       "<g id=\"edge4\" class=\"edge\">\n",
       "<title>Area Code&#45;&gt;Area Abbreviation</title>\n",
       "<path fill=\"none\" stroke=\"#000000\" d=\"M360.8467,-95.2954C360.8467,-95.2954 360.8467,-68.7225 360.8467,-68.7225\"/>\n",
       "<polygon fill=\"#000000\" stroke=\"#000000\" points=\"364.3468,-68.7225 360.8467,-58.7225 357.3468,-68.7226 364.3468,-68.7225\"/>\n",
       "<text text-anchor=\"middle\" x=\"308.9448\" y=\"-70.809\" font-family=\"Times,serif\" font-size=\"14.00\" fill=\"#000000\">Area Abbreviation</text>\n",
       "</g>\n",
       "</g>\n",
       "</svg>\n"
      ],
      "text/plain": [
       "<graphviz.dot.Digraph at 0x10ab90650>"
      ]
     },
     "execution_count": 5,
     "metadata": {},
     "output_type": "execute_result"
    }
   ],
   "source": [
    "entityset.plot()"
   ]
  },
  {
   "cell_type": "code",
   "execution_count": 7,
   "metadata": {},
   "outputs": [
    {
     "data": {
      "text/plain": [
       "[<Feature: Area Code>,\n",
       " <Feature: Item Code>,\n",
       " <Feature: Element Code>,\n",
       " <Feature: Area Code.Area Abbreviation>,\n",
       " <Feature: Area Code.Area>,\n",
       " <Feature: Area Code.latitude>,\n",
       " <Feature: Area Code.longitude>,\n",
       " <Feature: Item Code.Item>,\n",
       " <Feature: Element Code.Element>,\n",
       " <Feature: Area Code.COUNT(Item Code_Element Code_Area Code)>,\n",
       " <Feature: Area Code.NUM_UNIQUE(Item Code_Element Code_Area Code.Item Code)>,\n",
       " <Feature: Area Code.NUM_UNIQUE(Item Code_Element Code_Area Code.Element Code)>,\n",
       " <Feature: Area Code.MODE(Item Code_Element Code_Area Code.Item Code)>,\n",
       " <Feature: Area Code.MODE(Item Code_Element Code_Area Code.Element Code)>,\n",
       " <Feature: Area Code.Area Abbreviation.Unit>,\n",
       " <Feature: Item Code.COUNT(Item Code_Element Code_Area Code)>,\n",
       " <Feature: Item Code.NUM_UNIQUE(Item Code_Element Code_Area Code.Area Code)>,\n",
       " <Feature: Item Code.NUM_UNIQUE(Item Code_Element Code_Area Code.Element Code)>,\n",
       " <Feature: Item Code.MODE(Item Code_Element Code_Area Code.Area Code)>,\n",
       " <Feature: Item Code.MODE(Item Code_Element Code_Area Code.Element Code)>,\n",
       " <Feature: Element Code.COUNT(Item Code_Element Code_Area Code)>,\n",
       " <Feature: Element Code.NUM_UNIQUE(Item Code_Element Code_Area Code.Area Code)>,\n",
       " <Feature: Element Code.NUM_UNIQUE(Item Code_Element Code_Area Code.Item Code)>,\n",
       " <Feature: Element Code.MODE(Item Code_Element Code_Area Code.Area Code)>,\n",
       " <Feature: Element Code.MODE(Item Code_Element Code_Area Code.Item Code)>]"
      ]
     },
     "execution_count": 7,
     "metadata": {},
     "output_type": "execute_result"
    }
   ],
   "source": [
    "import featuretools as ft\n",
    "fm, features = ft.dfs(entityset=entityset, target_dataframe_name='Item Code_Element Code_Area Code')\n",
    "features"
   ]
  }
 ],
 "metadata": {
  "kernelspec": {
   "display_name": "Python 3",
   "language": "python",
   "name": "python3"
  },
  "language_info": {
   "codemirror_mode": {
    "name": "ipython",
    "version": 3
   },
   "file_extension": ".py",
   "mimetype": "text/x-python",
   "name": "python",
   "nbconvert_exporter": "python",
   "pygments_lexer": "ipython3",
   "version": "3.7.4"
  }
 },
 "nbformat": 4,
 "nbformat_minor": 2
}
