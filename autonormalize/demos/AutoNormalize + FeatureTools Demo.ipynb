{
 "cells": [
  {
   "cell_type": "markdown",
   "metadata": {},
   "source": [
    "# Using AutoNormalize with FeatureTools and Compose-ML"
   ]
  },
  {
   "cell_type": "markdown",
   "metadata": {},
   "source": [
    "In this demo we will use AutoNormalize to create our `entityset` from a mock dataset with a single table. We will use composeml and featuretools to generate labels and features, and then create a machine learning model for predicting one hour in advance whether customers will spend over $1200 within the next hour of transactions."
   ]
  },
  {
   "cell_type": "code",
   "execution_count": 1,
   "metadata": {},
   "outputs": [],
   "source": [
    "%matplotlib inline\n",
    "from featuretools.autonormalize import autonormalize as an\n",
    "import composeml as cp\n",
    "import featuretools as ft\n",
    "import pandas as pd\n",
    "from sklearn.model_selection import train_test_split\n",
    "from sklearn.ensemble import RandomForestClassifier\n",
    "from sklearn.metrics import classification_report"
   ]
  },
  {
   "cell_type": "markdown",
   "metadata": {},
   "source": [
    "## Load Data"
   ]
  },
  {
   "cell_type": "code",
   "execution_count": 2,
   "metadata": {
    "scrolled": true
   },
   "outputs": [
    {
     "data": {
      "text/html": [
       "<div>\n",
       "<style scoped>\n",
       "    .dataframe tbody tr th:only-of-type {\n",
       "        vertical-align: middle;\n",
       "    }\n",
       "\n",
       "    .dataframe tbody tr th {\n",
       "        vertical-align: top;\n",
       "    }\n",
       "\n",
       "    .dataframe thead th {\n",
       "        text-align: right;\n",
       "    }\n",
       "</style>\n",
       "<table border=\"1\" class=\"dataframe\">\n",
       "  <thead>\n",
       "    <tr style=\"text-align: right;\">\n",
       "      <th></th>\n",
       "      <th>transaction_id</th>\n",
       "      <th>session_id</th>\n",
       "      <th>transaction_time</th>\n",
       "      <th>product_id</th>\n",
       "      <th>amount</th>\n",
       "      <th>customer_id</th>\n",
       "      <th>device</th>\n",
       "      <th>session_start</th>\n",
       "      <th>zip_code</th>\n",
       "      <th>join_date</th>\n",
       "      <th>date_of_birth</th>\n",
       "      <th>brand</th>\n",
       "    </tr>\n",
       "  </thead>\n",
       "  <tbody>\n",
       "    <tr>\n",
       "      <th>0</th>\n",
       "      <td>9202</td>\n",
       "      <td>1</td>\n",
       "      <td>2014-01-01 00:00:00</td>\n",
       "      <td>36</td>\n",
       "      <td>81.46</td>\n",
       "      <td>8</td>\n",
       "      <td>desktop</td>\n",
       "      <td>2014-01-01</td>\n",
       "      <td>13244</td>\n",
       "      <td>2013-05-07 20:59:29</td>\n",
       "      <td>1973-07-28</td>\n",
       "      <td>A</td>\n",
       "    </tr>\n",
       "    <tr>\n",
       "      <th>1</th>\n",
       "      <td>5776</td>\n",
       "      <td>1</td>\n",
       "      <td>2014-01-01 00:01:05</td>\n",
       "      <td>36</td>\n",
       "      <td>107.59</td>\n",
       "      <td>8</td>\n",
       "      <td>desktop</td>\n",
       "      <td>2014-01-01</td>\n",
       "      <td>13244</td>\n",
       "      <td>2013-05-07 20:59:29</td>\n",
       "      <td>1973-07-28</td>\n",
       "      <td>A</td>\n",
       "    </tr>\n",
       "    <tr>\n",
       "      <th>2</th>\n",
       "      <td>1709</td>\n",
       "      <td>1</td>\n",
       "      <td>2014-01-01 00:32:30</td>\n",
       "      <td>36</td>\n",
       "      <td>57.57</td>\n",
       "      <td>8</td>\n",
       "      <td>desktop</td>\n",
       "      <td>2014-01-01</td>\n",
       "      <td>13244</td>\n",
       "      <td>2013-05-07 20:59:29</td>\n",
       "      <td>1973-07-28</td>\n",
       "      <td>A</td>\n",
       "    </tr>\n",
       "  </tbody>\n",
       "</table>\n",
       "</div>"
      ],
      "text/plain": [
       "   transaction_id  session_id    transaction_time product_id  amount  \\\n",
       "0            9202           1 2014-01-01 00:00:00         36   81.46   \n",
       "1            5776           1 2014-01-01 00:01:05         36  107.59   \n",
       "2            1709           1 2014-01-01 00:32:30         36   57.57   \n",
       "\n",
       "   customer_id   device session_start zip_code           join_date  \\\n",
       "0            8  desktop    2014-01-01    13244 2013-05-07 20:59:29   \n",
       "1            8  desktop    2014-01-01    13244 2013-05-07 20:59:29   \n",
       "2            8  desktop    2014-01-01    13244 2013-05-07 20:59:29   \n",
       "\n",
       "  date_of_birth brand  \n",
       "0    1973-07-28     A  \n",
       "1    1973-07-28     A  \n",
       "2    1973-07-28     A  "
      ]
     },
     "execution_count": 2,
     "metadata": {},
     "output_type": "execute_result"
    }
   ],
   "source": [
    "transaction_df = ft.demo.load_mock_customer(n_customers=80, n_products=50, n_sessions=200, \n",
    "                                n_transactions=10000, return_single_table=True)\n",
    "\n",
    "transaction_df.head(3)"
   ]
  },
  {
   "cell_type": "markdown",
   "metadata": {},
   "source": [
    "## Generate Labels"
   ]
  },
  {
   "cell_type": "markdown",
   "metadata": {},
   "source": [
    "We create our labeling function, and use compose-ml to create our label maker. Using this, we extract our labels. "
   ]
  },
  {
   "cell_type": "code",
   "execution_count": 3,
   "metadata": {},
   "outputs": [
    {
     "name": "stderr",
     "output_type": "stream",
     "text": [
      "Elapsed: 00:06 | Remaining: 00:00 | Progress: 100%|██████████████████| customer_id: 75/75 \n"
     ]
    },
    {
     "data": {
      "text/html": [
       "<div>\n",
       "<style scoped>\n",
       "    .dataframe tbody tr th:only-of-type {\n",
       "        vertical-align: middle;\n",
       "    }\n",
       "\n",
       "    .dataframe tbody tr th {\n",
       "        vertical-align: top;\n",
       "    }\n",
       "\n",
       "    .dataframe thead th {\n",
       "        text-align: right;\n",
       "    }\n",
       "</style>\n",
       "<table border=\"1\" class=\"dataframe\">\n",
       "  <thead>\n",
       "    <tr style=\"text-align: right;\">\n",
       "      <th></th>\n",
       "      <th>customer_id</th>\n",
       "      <th>cutoff_time</th>\n",
       "      <th>total_spent</th>\n",
       "    </tr>\n",
       "    <tr>\n",
       "      <th>label_id</th>\n",
       "      <th></th>\n",
       "      <th></th>\n",
       "      <th></th>\n",
       "    </tr>\n",
       "  </thead>\n",
       "  <tbody>\n",
       "    <tr>\n",
       "      <th>0</th>\n",
       "      <td>1</td>\n",
       "      <td>2014-01-01 06:30:50</td>\n",
       "      <td>3333.67</td>\n",
       "    </tr>\n",
       "    <tr>\n",
       "      <th>1</th>\n",
       "      <td>1</td>\n",
       "      <td>2014-01-03 18:35:10</td>\n",
       "      <td>3131.11</td>\n",
       "    </tr>\n",
       "    <tr>\n",
       "      <th>2</th>\n",
       "      <td>1</td>\n",
       "      <td>2014-01-03 18:37:20</td>\n",
       "      <td>3035.19</td>\n",
       "    </tr>\n",
       "    <tr>\n",
       "      <th>3</th>\n",
       "      <td>1</td>\n",
       "      <td>2014-01-03 18:39:30</td>\n",
       "      <td>2834.44</td>\n",
       "    </tr>\n",
       "  </tbody>\n",
       "</table>\n",
       "</div>"
      ],
      "text/plain": [
       "          customer_id         cutoff_time  total_spent\n",
       "label_id                                              \n",
       "0                   1 2014-01-01 06:30:50      3333.67\n",
       "1                   1 2014-01-03 18:35:10      3131.11\n",
       "2                   1 2014-01-03 18:37:20      3035.19\n",
       "3                   1 2014-01-03 18:39:30      2834.44"
      ]
     },
     "execution_count": 3,
     "metadata": {},
     "output_type": "execute_result"
    }
   ],
   "source": [
    "def total_spent(df_slice):\n",
    "    label = df_slice[\"amount\"].sum()\n",
    "    return label\n",
    "label_maker = cp.LabelMaker(target_dataframe_name='customer_id', time_index='transaction_time', \n",
    "                           labeling_function=total_spent, window_size='1h')\n",
    "labels = label_maker.search(transaction_df, minimum_data='2h', num_examples_per_instance=50, gap='2min')\n",
    "labels.head(4)"
   ]
  },
  {
   "cell_type": "markdown",
   "metadata": {},
   "source": [
    "We then transform the labels, to have a threshold of $1200, and shift label times an hour earlier for predicting in advance."
   ]
  },
  {
   "cell_type": "code",
   "execution_count": 4,
   "metadata": {},
   "outputs": [
    {
     "data": {
      "text/html": [
       "<div>\n",
       "<style scoped>\n",
       "    .dataframe tbody tr th:only-of-type {\n",
       "        vertical-align: middle;\n",
       "    }\n",
       "\n",
       "    .dataframe tbody tr th {\n",
       "        vertical-align: top;\n",
       "    }\n",
       "\n",
       "    .dataframe thead th {\n",
       "        text-align: right;\n",
       "    }\n",
       "</style>\n",
       "<table border=\"1\" class=\"dataframe\">\n",
       "  <thead>\n",
       "    <tr style=\"text-align: right;\">\n",
       "      <th></th>\n",
       "      <th>customer_id</th>\n",
       "      <th>cutoff_time</th>\n",
       "      <th>total_spent</th>\n",
       "    </tr>\n",
       "    <tr>\n",
       "      <th>label_id</th>\n",
       "      <th></th>\n",
       "      <th></th>\n",
       "      <th></th>\n",
       "    </tr>\n",
       "  </thead>\n",
       "  <tbody>\n",
       "    <tr>\n",
       "      <th>0</th>\n",
       "      <td>1</td>\n",
       "      <td>2014-01-01 05:30:50</td>\n",
       "      <td>True</td>\n",
       "    </tr>\n",
       "    <tr>\n",
       "      <th>1</th>\n",
       "      <td>1</td>\n",
       "      <td>2014-01-03 17:35:10</td>\n",
       "      <td>True</td>\n",
       "    </tr>\n",
       "    <tr>\n",
       "      <th>2</th>\n",
       "      <td>1</td>\n",
       "      <td>2014-01-03 17:37:20</td>\n",
       "      <td>True</td>\n",
       "    </tr>\n",
       "    <tr>\n",
       "      <th>3</th>\n",
       "      <td>1</td>\n",
       "      <td>2014-01-03 17:39:30</td>\n",
       "      <td>True</td>\n",
       "    </tr>\n",
       "  </tbody>\n",
       "</table>\n",
       "</div>"
      ],
      "text/plain": [
       "          customer_id         cutoff_time  total_spent\n",
       "label_id                                              \n",
       "0                   1 2014-01-01 05:30:50         True\n",
       "1                   1 2014-01-03 17:35:10         True\n",
       "2                   1 2014-01-03 17:37:20         True\n",
       "3                   1 2014-01-03 17:39:30         True"
      ]
     },
     "execution_count": 4,
     "metadata": {},
     "output_type": "execute_result"
    }
   ],
   "source": [
    "labels = labels.threshold(1200)\n",
    "labels = labels.apply_lead('1h')\n",
    "labels.head(4)"
   ]
  },
  {
   "cell_type": "code",
   "execution_count": 5,
   "metadata": {
    "scrolled": false
   },
   "outputs": [
    {
     "name": "stdout",
     "output_type": "stream",
     "text": [
      "Label Distribution\n",
      "------------------\n",
      "True      1579\n",
      "False      584\n",
      "Total:    2163\n",
      "\n",
      "\n",
      "Settings\n",
      "--------\n",
      "num_examples_per_instance      50\n",
      "minimum_data                   2h\n",
      "window_size                    1h\n",
      "gap                          2min\n",
      "\n",
      "\n",
      "Transforms\n",
      "----------\n",
      "1. threshold\n",
      "  - value:    1200\n",
      "\n",
      "2. apply_lead\n",
      "  - value:    1h\n",
      "\n"
     ]
    }
   ],
   "source": [
    "labels.describe()"
   ]
  },
  {
   "cell_type": "markdown",
   "metadata": {},
   "source": [
    "## Create an `EntitySet` with AutoNormalize"
   ]
  },
  {
   "cell_type": "markdown",
   "metadata": {},
   "source": [
    "To create an `EntitySet` with AutoNormalize we just call `auto_entityset()` on our dataframe. AutoNormalize then automatically detects the dependencies within the data, and normalizes the dataframe accordingly. This gives us an automatically normalized entityset!"
   ]
  },
  {
   "cell_type": "code",
   "execution_count": 6,
   "metadata": {
    "scrolled": true
   },
   "outputs": [
    {
     "name": "stderr",
     "output_type": "stream",
     "text": [
      "100%|██████████| 10/10 [00:01<00:00,  7.11it/s]\n"
     ]
    },
    {
     "name": "stdout",
     "output_type": "stream",
     "text": [
      "Entityset: transactions\n",
      "  Entities:\n",
      "    transaction_id [Rows: 10000, Columns: 5]\n",
      "    product_id [Rows: 50, Columns: 2]\n",
      "    session_id [Rows: 200, Columns: 4]\n",
      "    customer_id [Rows: 75, Columns: 4]\n",
      "  Relationships:\n",
      "    transaction_id.session_id -> session_id.session_id\n",
      "    transaction_id.product_id -> product_id.product_id\n",
      "    session_id.customer_id -> customer_id.customer_id\n"
     ]
    }
   ],
   "source": [
    "es = an.auto_entityset(transaction_df, accuracy=1, name=\"transactions\", time_index='transaction_time')\n",
    "es.add_last_time_indexes()\n",
    "print(es)"
   ]
  },
  {
   "cell_type": "markdown",
   "metadata": {},
   "source": [
    "It's really that simple. The plot shows you how the library normalized `transaction_df`."
   ]
  },
  {
   "cell_type": "code",
   "execution_count": 10,
   "metadata": {
    "scrolled": false
   },
   "outputs": [
    {
     "data": {
      "image/svg+xml": [
       "<?xml version=\"1.0\" encoding=\"UTF-8\" standalone=\"no\"?>\n",
       "<!DOCTYPE svg PUBLIC \"-//W3C//DTD SVG 1.1//EN\"\n",
       " \"http://www.w3.org/Graphics/SVG/1.1/DTD/svg11.dtd\">\n",
       "<!-- Generated by graphviz version 2.40.1 (20161225.0304)\n",
       " -->\n",
       "<!-- Title: transactions Pages: 1 -->\n",
       "<svg width=\"294pt\" height=\"355pt\"\n",
       " viewBox=\"0.00 0.00 294.34 355.00\" xmlns=\"http://www.w3.org/2000/svg\" xmlns:xlink=\"http://www.w3.org/1999/xlink\">\n",
       "<g id=\"graph0\" class=\"graph\" transform=\"scale(1 1) rotate(0) translate(4 351)\">\n",
       "<title>transactions</title>\n",
       "<polygon fill=\"#ffffff\" stroke=\"transparent\" points=\"-4,4 -4,-351 290.3384,-351 290.3384,4 -4,4\"/>\n",
       "<!-- transaction_id -->\n",
       "<g id=\"node1\" class=\"node\">\n",
       "<title>transaction_id</title>\n",
       "<polygon fill=\"none\" stroke=\"#000000\" points=\"15.8931,-246.5 15.8931,-346.5 254.2729,-346.5 254.2729,-246.5 15.8931,-246.5\"/>\n",
       "<text text-anchor=\"middle\" x=\"135.083\" y=\"-331.3\" font-family=\"Times,serif\" font-size=\"14.00\" fill=\"#000000\">transaction_id</text>\n",
       "<polyline fill=\"none\" stroke=\"#000000\" points=\"15.8931,-324.5 254.2729,-324.5 \"/>\n",
       "<text text-anchor=\"start\" x=\"23.8931\" y=\"-309.3\" font-family=\"Times,serif\" font-size=\"14.00\" fill=\"#000000\">transaction_id : index</text>\n",
       "<text text-anchor=\"start\" x=\"23.8931\" y=\"-295.3\" font-family=\"Times,serif\" font-size=\"14.00\" fill=\"#000000\">session_id : id</text>\n",
       "<text text-anchor=\"start\" x=\"23.8931\" y=\"-281.3\" font-family=\"Times,serif\" font-size=\"14.00\" fill=\"#000000\">transaction_time : datetime_time_index</text>\n",
       "<text text-anchor=\"start\" x=\"23.8931\" y=\"-267.3\" font-family=\"Times,serif\" font-size=\"14.00\" fill=\"#000000\">product_id : id</text>\n",
       "<text text-anchor=\"start\" x=\"23.8931\" y=\"-253.3\" font-family=\"Times,serif\" font-size=\"14.00\" fill=\"#000000\">amount : numeric</text>\n",
       "</g>\n",
       "<!-- product_id -->\n",
       "<g id=\"node2\" class=\"node\">\n",
       "<title>product_id</title>\n",
       "<polygon fill=\"none\" stroke=\"#000000\" points=\"0,-137.5 0,-195.5 120.166,-195.5 120.166,-137.5 0,-137.5\"/>\n",
       "<text text-anchor=\"middle\" x=\"60.083\" y=\"-180.3\" font-family=\"Times,serif\" font-size=\"14.00\" fill=\"#000000\">product_id</text>\n",
       "<polyline fill=\"none\" stroke=\"#000000\" points=\"0,-173.5 120.166,-173.5 \"/>\n",
       "<text text-anchor=\"start\" x=\"8\" y=\"-158.3\" font-family=\"Times,serif\" font-size=\"14.00\" fill=\"#000000\">product_id : index</text>\n",
       "<text text-anchor=\"start\" x=\"8\" y=\"-144.3\" font-family=\"Times,serif\" font-size=\"14.00\" fill=\"#000000\">brand : categorical</text>\n",
       "</g>\n",
       "<!-- transaction_id&#45;&gt;product_id -->\n",
       "<g id=\"edge2\" class=\"edge\">\n",
       "<title>transaction_id&#45;&gt;product_id</title>\n",
       "<path fill=\"none\" stroke=\"#000000\" d=\"M68.0295,-246.2386C68.0295,-246.2386 68.0295,-205.5835 68.0295,-205.5835\"/>\n",
       "<polygon fill=\"#000000\" stroke=\"#000000\" points=\"71.5296,-205.5835 68.0295,-195.5835 64.5296,-205.5835 71.5296,-205.5835\"/>\n",
       "<text text-anchor=\"middle\" x=\"37.7019\" y=\"-228.711\" font-family=\"Times,serif\" font-size=\"14.00\" fill=\"#000000\">product_id</text>\n",
       "</g>\n",
       "<!-- session_id -->\n",
       "<g id=\"node3\" class=\"node\">\n",
       "<title>session_id</title>\n",
       "<polygon fill=\"none\" stroke=\"#000000\" points=\"137.7622,-123.5 137.7622,-209.5 284.4038,-209.5 284.4038,-123.5 137.7622,-123.5\"/>\n",
       "<text text-anchor=\"middle\" x=\"211.083\" y=\"-194.3\" font-family=\"Times,serif\" font-size=\"14.00\" fill=\"#000000\">session_id</text>\n",
       "<polyline fill=\"none\" stroke=\"#000000\" points=\"137.7622,-187.5 284.4038,-187.5 \"/>\n",
       "<text text-anchor=\"start\" x=\"145.7622\" y=\"-172.3\" font-family=\"Times,serif\" font-size=\"14.00\" fill=\"#000000\">session_id : index</text>\n",
       "<text text-anchor=\"start\" x=\"145.7622\" y=\"-158.3\" font-family=\"Times,serif\" font-size=\"14.00\" fill=\"#000000\">customer_id : id</text>\n",
       "<text text-anchor=\"start\" x=\"145.7622\" y=\"-144.3\" font-family=\"Times,serif\" font-size=\"14.00\" fill=\"#000000\">device : categorical</text>\n",
       "<text text-anchor=\"start\" x=\"145.7622\" y=\"-130.3\" font-family=\"Times,serif\" font-size=\"14.00\" fill=\"#000000\">session_start : datetime</text>\n",
       "</g>\n",
       "<!-- transaction_id&#45;&gt;session_id -->\n",
       "<g id=\"edge1\" class=\"edge\">\n",
       "<title>transaction_id&#45;&gt;session_id</title>\n",
       "<path fill=\"none\" stroke=\"#000000\" d=\"M196.0176,-246.2386C196.0176,-246.2386 196.0176,-219.8615 196.0176,-219.8615\"/>\n",
       "<polygon fill=\"#000000\" stroke=\"#000000\" points=\"199.5177,-219.8615 196.0176,-209.8615 192.5177,-219.8616 199.5177,-219.8615\"/>\n",
       "<text text-anchor=\"middle\" x=\"166.8486\" y=\"-221.8501\" font-family=\"Times,serif\" font-size=\"14.00\" fill=\"#000000\">session_id</text>\n",
       "</g>\n",
       "<!-- customer_id -->\n",
       "<g id=\"node4\" class=\"node\">\n",
       "<title>customer_id</title>\n",
       "<polygon fill=\"none\" stroke=\"#000000\" points=\"135.8276,-.5 135.8276,-86.5 286.3384,-86.5 286.3384,-.5 135.8276,-.5\"/>\n",
       "<text text-anchor=\"middle\" x=\"211.083\" y=\"-71.3\" font-family=\"Times,serif\" font-size=\"14.00\" fill=\"#000000\">customer_id</text>\n",
       "<polyline fill=\"none\" stroke=\"#000000\" points=\"135.8276,-64.5 286.3384,-64.5 \"/>\n",
       "<text text-anchor=\"start\" x=\"143.8276\" y=\"-49.3\" font-family=\"Times,serif\" font-size=\"14.00\" fill=\"#000000\">customer_id : index</text>\n",
       "<text text-anchor=\"start\" x=\"143.8276\" y=\"-35.3\" font-family=\"Times,serif\" font-size=\"14.00\" fill=\"#000000\">zip_code : categorical</text>\n",
       "<text text-anchor=\"start\" x=\"143.8276\" y=\"-21.3\" font-family=\"Times,serif\" font-size=\"14.00\" fill=\"#000000\">join_date : datetime</text>\n",
       "<text text-anchor=\"start\" x=\"143.8276\" y=\"-7.3\" font-family=\"Times,serif\" font-size=\"14.00\" fill=\"#000000\">date_of_birth : datetime</text>\n",
       "</g>\n",
       "<!-- session_id&#45;&gt;customer_id -->\n",
       "<g id=\"edge3\" class=\"edge\">\n",
       "<title>session_id&#45;&gt;customer_id</title>\n",
       "<path fill=\"none\" stroke=\"#000000\" d=\"M211.083,-123.4806C211.083,-123.4806 211.083,-96.703 211.083,-96.703\"/>\n",
       "<polygon fill=\"#000000\" stroke=\"#000000\" points=\"214.5831,-96.703 211.083,-86.703 207.5831,-96.7031 214.5831,-96.703\"/>\n",
       "<text text-anchor=\"middle\" x=\"176.4795\" y=\"-98.8918\" font-family=\"Times,serif\" font-size=\"14.00\" fill=\"#000000\">customer_id</text>\n",
       "</g>\n",
       "</g>\n",
       "</svg>\n"
      ],
      "text/plain": [
       "<graphviz.dot.Digraph at 0x106f78450>"
      ]
     },
     "execution_count": 10,
     "metadata": {},
     "output_type": "execute_result"
    }
   ],
   "source": [
    "es.plot()"
   ]
  },
  {
   "cell_type": "markdown",
   "metadata": {},
   "source": [
    "## Create Feature Matrix"
   ]
  },
  {
   "cell_type": "markdown",
   "metadata": {},
   "source": [
    "Now we generate features using `dfs()`. "
   ]
  },
  {
   "cell_type": "code",
   "execution_count": 11,
   "metadata": {
    "scrolled": false
   },
   "outputs": [
    {
     "name": "stdout",
     "output_type": "stream",
     "text": [
      "Built 73 features\n",
      "Elapsed: 08:15 | Remaining: 00:00 | Progress: 100%|██████████| Calculated: 11/11 chunks\n"
     ]
    },
    {
     "data": {
      "text/plain": [
       "[<Feature: zip_code>,\n",
       " <Feature: COUNT(session_id)>,\n",
       " <Feature: NUM_UNIQUE(session_id.device)>,\n",
       " <Feature: MODE(session_id.device)>,\n",
       " <Feature: SUM(transaction_id.amount)>,\n",
       " <Feature: STD(transaction_id.amount)>,\n",
       " <Feature: MAX(transaction_id.amount)>,\n",
       " <Feature: SKEW(transaction_id.amount)>,\n",
       " <Feature: MIN(transaction_id.amount)>,\n",
       " <Feature: MEAN(transaction_id.amount)>,\n",
       " <Feature: COUNT(transaction_id)>,\n",
       " <Feature: NUM_UNIQUE(transaction_id.product_id)>,\n",
       " <Feature: MODE(transaction_id.product_id)>,\n",
       " <Feature: DAY(join_date)>,\n",
       " <Feature: DAY(date_of_birth)>,\n",
       " <Feature: YEAR(join_date)>,\n",
       " <Feature: YEAR(date_of_birth)>,\n",
       " <Feature: MONTH(join_date)>,\n",
       " <Feature: MONTH(date_of_birth)>,\n",
       " <Feature: WEEKDAY(join_date)>]"
      ]
     },
     "execution_count": 11,
     "metadata": {},
     "output_type": "execute_result"
    }
   ],
   "source": [
    "feature_matrix, features_defs = ft.dfs(\n",
    "    entityset=es,\n",
    "    target_dataframe_name='customer_id',\n",
    "    cutoff_time=labels,\n",
    "    cutoff_time_in_index=True,\n",
    "    verbose=True,\n",
    ")\n",
    "features_defs[:20]"
   ]
  },
  {
   "cell_type": "markdown",
   "metadata": {},
   "source": [
    "## Machine Learning"
   ]
  },
  {
   "cell_type": "markdown",
   "metadata": {},
   "source": [
    "Now we preprocess our features, and split the features and corresponding labels into training and testing sets."
   ]
  },
  {
   "cell_type": "code",
   "execution_count": 12,
   "metadata": {},
   "outputs": [],
   "source": [
    "y = feature_matrix.pop(labels.name)\n",
    "x = feature_matrix.fillna(0)\n",
    "x, features_enc = ft.encode_features(x, features_defs)\n",
    "x_train, x_test, y_train, y_test = train_test_split(\n",
    "    x,\n",
    "    y,\n",
    "    train_size=.8,\n",
    "    test_size=.2,\n",
    "    random_state=0,\n",
    ")"
   ]
  },
  {
   "cell_type": "markdown",
   "metadata": {},
   "source": [
    "Now, we train a random forest classifer on the training set, and then test the models performance by evaluating predictions on the testing set."
   ]
  },
  {
   "cell_type": "code",
   "execution_count": 10,
   "metadata": {},
   "outputs": [
    {
     "data": {
      "text/plain": [
       "RandomForestClassifier(bootstrap=True, class_weight=None, criterion='gini',\n",
       "                       max_depth=None, max_features='auto', max_leaf_nodes=None,\n",
       "                       min_impurity_decrease=0.0, min_impurity_split=None,\n",
       "                       min_samples_leaf=1, min_samples_split=2,\n",
       "                       min_weight_fraction_leaf=0.0, n_estimators=10,\n",
       "                       n_jobs=None, oob_score=False, random_state=0, verbose=0,\n",
       "                       warm_start=False)"
      ]
     },
     "execution_count": 10,
     "metadata": {},
     "output_type": "execute_result"
    }
   ],
   "source": [
    "clf = RandomForestClassifier(n_estimators=10, random_state=0)\n",
    "clf.fit(x_train, y_train)"
   ]
  },
  {
   "cell_type": "code",
   "execution_count": 11,
   "metadata": {
    "scrolled": true
   },
   "outputs": [
    {
     "name": "stdout",
     "output_type": "stream",
     "text": [
      "              precision    recall  f1-score   support\n",
      "\n",
      "       False       0.67      0.06      0.11       129\n",
      "        True       0.71      0.99      0.83       304\n",
      "\n",
      "    accuracy                           0.71       433\n",
      "   macro avg       0.69      0.52      0.47       433\n",
      "weighted avg       0.70      0.71      0.61       433\n",
      "\n"
     ]
    }
   ],
   "source": [
    "y_hat = clf.predict(x_test)\n",
    "print(classification_report(y_test, y_hat))"
   ]
  },
  {
   "cell_type": "markdown",
   "metadata": {},
   "source": [
    "This plot is based on scores obtained by the model to illustrate which features are considered important for predictions."
   ]
  },
  {
   "cell_type": "code",
   "execution_count": 14,
   "metadata": {
    "scrolled": false
   },
   "outputs": [
    {
     "data": {
      "image/png": "[encoded data removed]",
      "text/plain": [
       "<Figure size 360x864 with 1 Axes>"
      ]
     },
     "metadata": {
      "needs_background": "light"
     },
     "output_type": "display_data"
    }
   ],
   "source": [
    "feature_importances = zip(x_train.columns, clf.feature_importances_)\n",
    "feature_importances = pd.Series(dict(feature_importances))\n",
    "feature_importances = feature_importances.rename_axis('Features')\n",
    "feature_importances = feature_importances.sort_values()\n",
    "\n",
    "top_features = feature_importances.tail(40)\n",
    "plot = top_features.plot(kind='barh', figsize=(5, 12), color='#054571')\n",
    "plot.set_title('Feature Importances')\n",
    "plot.set_xlabel('Scores');"
   ]
  }
 ],
 "metadata": {
  "kernelspec": {
   "display_name": "Python 3",
   "language": "python",
   "name": "python3"
  },
  "language_info": {
   "codemirror_mode": {
    "name": "ipython",
    "version": 3
   },
   "file_extension": ".py",
   "mimetype": "text/x-python",
   "name": "python",
   "nbconvert_exporter": "python",
   "pygments_lexer": "ipython3",
   "version": "3.7.4"
  }
 },
 "nbformat": 4,
 "nbformat_minor": 2
}
