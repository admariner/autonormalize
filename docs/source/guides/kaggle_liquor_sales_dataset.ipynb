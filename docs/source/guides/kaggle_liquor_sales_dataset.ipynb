{
 "cells": [
  {
   "cell_type": "markdown",
   "metadata": {},
   "source": [
    "# AUTONORMALIZE DEMO \n",
    "Using Autonormalize to normalize a kaggle dataset about liquor purchasing orders."
   ]
  },
  {
   "cell_type": "markdown",
   "metadata": {},
   "source": [
    "This dataset can be found on kaggle at https://www.kaggle.com/residentmario/iowa-liquor-sales. "
   ]
  },
  {
   "cell_type": "code",
   "execution_count": 3,
   "metadata": {},
   "outputs": [],
   "source": [
    "import os\n",
    "import time\n",
    "\n",
    "import pandas as pd\n",
    "from demo.liquor import load_sample\n",
    "from featuretools.autonormalize import autonormalize as an"
   ]
  },
  {
   "cell_type": "code",
   "execution_count": 2,
   "metadata": {
    "scrolled": true
   },
   "outputs": [
    {
     "name": "stdout",
     "output_type": "stream",
     "text": [
      "Rows: 1497599\n",
      "Columns: 13\n"
     ]
    },
    {
     "data": {
      "text/html": [
       "<div>\n",
       "<style scoped>\n",
       "    .dataframe tbody tr th:only-of-type {\n",
       "        vertical-align: middle;\n",
       "    }\n",
       "\n",
       "    .dataframe tbody tr th {\n",
       "        vertical-align: top;\n",
       "    }\n",
       "\n",
       "    .dataframe thead th {\n",
       "        text-align: right;\n",
       "    }\n",
       "</style>\n",
       "<table border=\"1\" class=\"dataframe\">\n",
       "  <thead>\n",
       "    <tr style=\"text-align: right;\">\n",
       "      <th></th>\n",
       "      <th>Unnamed: 0</th>\n",
       "      <th>Invoice/Item Number</th>\n",
       "      <th>Date</th>\n",
       "      <th>Store Number</th>\n",
       "      <th>Store Name</th>\n",
       "      <th>Address</th>\n",
       "      <th>City</th>\n",
       "      <th>Zip Code</th>\n",
       "      <th>Store Location</th>\n",
       "      <th>County Number</th>\n",
       "      <th>County</th>\n",
       "      <th>Category</th>\n",
       "      <th>Category Name</th>\n",
       "    </tr>\n",
       "  </thead>\n",
       "  <tbody>\n",
       "    <tr>\n",
       "      <th>0</th>\n",
       "      <td>6</td>\n",
       "      <td>S28865700001</td>\n",
       "      <td>11/09/2015</td>\n",
       "      <td>2538</td>\n",
       "      <td>Hy-Vee Food Store #3 / Waterloo</td>\n",
       "      <td>1422 FLAMMANG DR</td>\n",
       "      <td>WATERLOO</td>\n",
       "      <td>50702</td>\n",
       "      <td>1422 FLAMMANG DR\\nWATERLOO 50702\\n(42.459938, ...</td>\n",
       "      <td>7.0</td>\n",
       "      <td>Black Hawk</td>\n",
       "      <td>1701100.0</td>\n",
       "      <td>DECANTERS &amp; SPECIALTY PACKAGES</td>\n",
       "    </tr>\n",
       "    <tr>\n",
       "      <th>1</th>\n",
       "      <td>8</td>\n",
       "      <td>S29339300091</td>\n",
       "      <td>11/30/2015</td>\n",
       "      <td>2662</td>\n",
       "      <td>Hy-Vee Wine &amp; Spirits / Muscatine</td>\n",
       "      <td>522 MULBERRY, SUITE A</td>\n",
       "      <td>MUSCATINE</td>\n",
       "      <td>52761</td>\n",
       "      <td>522 MULBERRY, SUITE A\\nMUSCATINE 52761\\n</td>\n",
       "      <td>70.0</td>\n",
       "      <td>Muscatine</td>\n",
       "      <td>1701100.0</td>\n",
       "      <td>DECANTERS &amp; SPECIALTY PACKAGES</td>\n",
       "    </tr>\n",
       "    <tr>\n",
       "      <th>2</th>\n",
       "      <td>13</td>\n",
       "      <td>S28866900001</td>\n",
       "      <td>11/11/2015</td>\n",
       "      <td>3650</td>\n",
       "      <td>Spirits, Stogies and Stuff</td>\n",
       "      <td>118 South Main St.</td>\n",
       "      <td>HOLSTEIN</td>\n",
       "      <td>51025</td>\n",
       "      <td>118 South Main St.\\nHOLSTEIN 51025\\n(42.490073...</td>\n",
       "      <td>47.0</td>\n",
       "      <td>Ida</td>\n",
       "      <td>1701100.0</td>\n",
       "      <td>DECANTERS &amp; SPECIALTY PACKAGES</td>\n",
       "    </tr>\n",
       "  </tbody>\n",
       "</table>\n",
       "</div>"
      ],
      "text/plain": [
       "   Unnamed: 0 Invoice/Item Number        Date  Store Number  \\\n",
       "0           6        S28865700001  11/09/2015          2538   \n",
       "1           8        S29339300091  11/30/2015          2662   \n",
       "2          13        S28866900001  11/11/2015          3650   \n",
       "\n",
       "                          Store Name                Address       City  \\\n",
       "0    Hy-Vee Food Store #3 / Waterloo       1422 FLAMMANG DR   WATERLOO   \n",
       "1  Hy-Vee Wine & Spirits / Muscatine  522 MULBERRY, SUITE A  MUSCATINE   \n",
       "2         Spirits, Stogies and Stuff     118 South Main St.   HOLSTEIN   \n",
       "\n",
       "  Zip Code                                     Store Location  County Number  \\\n",
       "0    50702  1422 FLAMMANG DR\\nWATERLOO 50702\\n(42.459938, ...            7.0   \n",
       "1    52761           522 MULBERRY, SUITE A\\nMUSCATINE 52761\\n           70.0   \n",
       "2    51025  118 South Main St.\\nHOLSTEIN 51025\\n(42.490073...           47.0   \n",
       "\n",
       "       County   Category                   Category Name  \n",
       "0  Black Hawk  1701100.0  DECANTERS & SPECIALTY PACKAGES  \n",
       "1   Muscatine  1701100.0  DECANTERS & SPECIALTY PACKAGES  \n",
       "2         Ida  1701100.0  DECANTERS & SPECIALTY PACKAGES  "
      ]
     },
     "execution_count": 2,
     "metadata": {},
     "output_type": "execute_result"
    }
   ],
   "source": [
    "df = load_sample()\n",
    "print(\"Rows: \"+ str(df.shape[0]))\n",
    "print(\"Columns: \" + str(df.shape[1]))\n",
    "df.head(3)"
   ]
  },
  {
   "cell_type": "code",
   "execution_count": 6,
   "metadata": {},
   "outputs": [
    {
     "data": {
      "text/html": [
       "<div>\n",
       "<style scoped>\n",
       "    .dataframe tbody tr th:only-of-type {\n",
       "        vertical-align: middle;\n",
       "    }\n",
       "\n",
       "    .dataframe tbody tr th {\n",
       "        vertical-align: top;\n",
       "    }\n",
       "\n",
       "    .dataframe thead th {\n",
       "        text-align: right;\n",
       "    }\n",
       "</style>\n",
       "<table border=\"1\" class=\"dataframe\">\n",
       "  <thead>\n",
       "    <tr style=\"text-align: right;\">\n",
       "      <th></th>\n",
       "      <th>Invoice/Item Number</th>\n",
       "      <th>Date</th>\n",
       "      <th>Store Number</th>\n",
       "      <th>Store Name</th>\n",
       "      <th>Address</th>\n",
       "      <th>City</th>\n",
       "      <th>Zip Code</th>\n",
       "      <th>Store Location</th>\n",
       "      <th>County Number</th>\n",
       "      <th>County</th>\n",
       "      <th>Category</th>\n",
       "      <th>Category Name</th>\n",
       "    </tr>\n",
       "  </thead>\n",
       "  <tbody>\n",
       "    <tr>\n",
       "      <th>0</th>\n",
       "      <td>S28865700001</td>\n",
       "      <td>11/09/2015</td>\n",
       "      <td>2538</td>\n",
       "      <td>Hy-Vee Food Store #3 / Waterloo</td>\n",
       "      <td>1422 FLAMMANG DR</td>\n",
       "      <td>WATERLOO</td>\n",
       "      <td>50702</td>\n",
       "      <td>1422 FLAMMANG DR\\nWATERLOO 50702\\n(42.459938, ...</td>\n",
       "      <td>7.0</td>\n",
       "      <td>Black Hawk</td>\n",
       "      <td>1701100.0</td>\n",
       "      <td>DECANTERS &amp; SPECIALTY PACKAGES</td>\n",
       "    </tr>\n",
       "    <tr>\n",
       "      <th>1</th>\n",
       "      <td>S29339300091</td>\n",
       "      <td>11/30/2015</td>\n",
       "      <td>2662</td>\n",
       "      <td>Hy-Vee Wine &amp; Spirits / Muscatine</td>\n",
       "      <td>522 MULBERRY, SUITE A</td>\n",
       "      <td>MUSCATINE</td>\n",
       "      <td>52761</td>\n",
       "      <td>522 MULBERRY, SUITE A\\nMUSCATINE 52761\\n</td>\n",
       "      <td>70.0</td>\n",
       "      <td>Muscatine</td>\n",
       "      <td>1701100.0</td>\n",
       "      <td>DECANTERS &amp; SPECIALTY PACKAGES</td>\n",
       "    </tr>\n",
       "    <tr>\n",
       "      <th>2</th>\n",
       "      <td>S28866900001</td>\n",
       "      <td>11/11/2015</td>\n",
       "      <td>3650</td>\n",
       "      <td>Spirits, Stogies and Stuff</td>\n",
       "      <td>118 South Main St.</td>\n",
       "      <td>HOLSTEIN</td>\n",
       "      <td>51025</td>\n",
       "      <td>118 South Main St.\\nHOLSTEIN 51025\\n(42.490073...</td>\n",
       "      <td>47.0</td>\n",
       "      <td>Ida</td>\n",
       "      <td>1701100.0</td>\n",
       "      <td>DECANTERS &amp; SPECIALTY PACKAGES</td>\n",
       "    </tr>\n",
       "    <tr>\n",
       "      <th>3</th>\n",
       "      <td>S29134300126</td>\n",
       "      <td>11/18/2015</td>\n",
       "      <td>3723</td>\n",
       "      <td>J D Spirits Liquor</td>\n",
       "      <td>1023  9TH ST</td>\n",
       "      <td>ONAWA</td>\n",
       "      <td>51040</td>\n",
       "      <td>1023 9TH ST\\nONAWA 51040\\n(42.025841, -96.095845)</td>\n",
       "      <td>67.0</td>\n",
       "      <td>Monona</td>\n",
       "      <td>1081200.0</td>\n",
       "      <td>CREAM LIQUEURS</td>\n",
       "    </tr>\n",
       "    <tr>\n",
       "      <th>4</th>\n",
       "      <td>S29282800048</td>\n",
       "      <td>11/23/2015</td>\n",
       "      <td>2642</td>\n",
       "      <td>Hy-Vee Wine and Spirits / Pella</td>\n",
       "      <td>512 E OSKALOOSA</td>\n",
       "      <td>PELLA</td>\n",
       "      <td>50219</td>\n",
       "      <td>512 E OSKALOOSA\\nPELLA 50219\\n(41.397023, -92....</td>\n",
       "      <td>63.0</td>\n",
       "      <td>Marion</td>\n",
       "      <td>1701100.0</td>\n",
       "      <td>DECANTERS &amp; SPECIALTY PACKAGES</td>\n",
       "    </tr>\n",
       "    <tr>\n",
       "      <th>...</th>\n",
       "      <td>...</td>\n",
       "      <td>...</td>\n",
       "      <td>...</td>\n",
       "      <td>...</td>\n",
       "      <td>...</td>\n",
       "      <td>...</td>\n",
       "      <td>...</td>\n",
       "      <td>...</td>\n",
       "      <td>...</td>\n",
       "      <td>...</td>\n",
       "      <td>...</td>\n",
       "      <td>...</td>\n",
       "    </tr>\n",
       "    <tr>\n",
       "      <th>1497594</th>\n",
       "      <td>S11434200003</td>\n",
       "      <td>04/03/2013</td>\n",
       "      <td>3065</td>\n",
       "      <td>Montezuma Super Valu</td>\n",
       "      <td>201 S FRONT ST</td>\n",
       "      <td>MONTEZUMA</td>\n",
       "      <td>50171</td>\n",
       "      <td>201 S FRONT ST\\nMONTEZUMA 50171\\n(41.584179, -...</td>\n",
       "      <td>79.0</td>\n",
       "      <td>Poweshiek</td>\n",
       "      <td>1031080.0</td>\n",
       "      <td>VODKA 80 PROOF</td>\n",
       "    </tr>\n",
       "    <tr>\n",
       "      <th>1497595</th>\n",
       "      <td>S21338800011</td>\n",
       "      <td>09/22/2014</td>\n",
       "      <td>4154</td>\n",
       "      <td>Fareway Stores #055 / Hiawatha</td>\n",
       "      <td>885 MILLER RD</td>\n",
       "      <td>HIAWATHA</td>\n",
       "      <td>52233</td>\n",
       "      <td>885 MILLER RD\\nHIAWATHA 52233\\n(42.046291, -91...</td>\n",
       "      <td>57.0</td>\n",
       "      <td>Linn</td>\n",
       "      <td>1051010.0</td>\n",
       "      <td>AMERICAN GRAPE BRANDIES</td>\n",
       "    </tr>\n",
       "    <tr>\n",
       "      <th>1497596</th>\n",
       "      <td>S15171100028</td>\n",
       "      <td>10/16/2013</td>\n",
       "      <td>4879</td>\n",
       "      <td>Sam's Mini Mart / Morningside Ave Si</td>\n",
       "      <td>4218 MORNINGSIDE AVE</td>\n",
       "      <td>SIOUX CITY</td>\n",
       "      <td>51106</td>\n",
       "      <td>4218 MORNINGSIDE AVE\\nSIOUX CITY 51106\\n(42.47...</td>\n",
       "      <td>97.0</td>\n",
       "      <td>Woodbury</td>\n",
       "      <td>1032200.0</td>\n",
       "      <td>IMPORTED VODKA - MISC</td>\n",
       "    </tr>\n",
       "    <tr>\n",
       "      <th>1497597</th>\n",
       "      <td>S09577300021</td>\n",
       "      <td>12/19/2012</td>\n",
       "      <td>4332</td>\n",
       "      <td>Fast Mart / University Ave</td>\n",
       "      <td>1621 UNIVERSITY AVE</td>\n",
       "      <td>DES MOINES</td>\n",
       "      <td>50314</td>\n",
       "      <td>1621 UNIVERSITY AVE\\nDES MOINES 50314\\n(41.600...</td>\n",
       "      <td>77.0</td>\n",
       "      <td>Polk</td>\n",
       "      <td>1052010.0</td>\n",
       "      <td>IMPORTED GRAPE BRANDIES</td>\n",
       "    </tr>\n",
       "    <tr>\n",
       "      <th>1497598</th>\n",
       "      <td>S14990000126</td>\n",
       "      <td>10/07/2013</td>\n",
       "      <td>2666</td>\n",
       "      <td>Hy-Vee #2 / Ankeny</td>\n",
       "      <td>2510 SW STATE ST</td>\n",
       "      <td>ANKENY</td>\n",
       "      <td>50023</td>\n",
       "      <td>2510 SW STATE ST\\nANKENY 50023\\n(41.704185, -9...</td>\n",
       "      <td>77.0</td>\n",
       "      <td>Polk</td>\n",
       "      <td>1012100.0</td>\n",
       "      <td>CANADIAN WHISKIES</td>\n",
       "    </tr>\n",
       "  </tbody>\n",
       "</table>\n",
       "<p>1497599 rows × 12 columns</p>\n",
       "</div>"
      ],
      "text/plain": [
       "        Invoice/Item Number        Date  Store Number  \\\n",
       "0              S28865700001  11/09/2015          2538   \n",
       "1              S29339300091  11/30/2015          2662   \n",
       "2              S28866900001  11/11/2015          3650   \n",
       "3              S29134300126  11/18/2015          3723   \n",
       "4              S29282800048  11/23/2015          2642   \n",
       "...                     ...         ...           ...   \n",
       "1497594        S11434200003  04/03/2013          3065   \n",
       "1497595        S21338800011  09/22/2014          4154   \n",
       "1497596        S15171100028  10/16/2013          4879   \n",
       "1497597        S09577300021  12/19/2012          4332   \n",
       "1497598        S14990000126  10/07/2013          2666   \n",
       "\n",
       "                                   Store Name                Address  \\\n",
       "0             Hy-Vee Food Store #3 / Waterloo       1422 FLAMMANG DR   \n",
       "1           Hy-Vee Wine & Spirits / Muscatine  522 MULBERRY, SUITE A   \n",
       "2                  Spirits, Stogies and Stuff     118 South Main St.   \n",
       "3                          J D Spirits Liquor           1023  9TH ST   \n",
       "4             Hy-Vee Wine and Spirits / Pella        512 E OSKALOOSA   \n",
       "...                                       ...                    ...   \n",
       "1497594                  Montezuma Super Valu         201 S FRONT ST   \n",
       "1497595        Fareway Stores #055 / Hiawatha          885 MILLER RD   \n",
       "1497596  Sam's Mini Mart / Morningside Ave Si   4218 MORNINGSIDE AVE   \n",
       "1497597            Fast Mart / University Ave    1621 UNIVERSITY AVE   \n",
       "1497598                    Hy-Vee #2 / Ankeny       2510 SW STATE ST   \n",
       "\n",
       "               City Zip Code  \\\n",
       "0          WATERLOO    50702   \n",
       "1         MUSCATINE    52761   \n",
       "2          HOLSTEIN    51025   \n",
       "3             ONAWA    51040   \n",
       "4             PELLA    50219   \n",
       "...             ...      ...   \n",
       "1497594   MONTEZUMA    50171   \n",
       "1497595    HIAWATHA    52233   \n",
       "1497596  SIOUX CITY    51106   \n",
       "1497597  DES MOINES    50314   \n",
       "1497598      ANKENY    50023   \n",
       "\n",
       "                                            Store Location  County Number  \\\n",
       "0        1422 FLAMMANG DR\\nWATERLOO 50702\\n(42.459938, ...            7.0   \n",
       "1                 522 MULBERRY, SUITE A\\nMUSCATINE 52761\\n           70.0   \n",
       "2        118 South Main St.\\nHOLSTEIN 51025\\n(42.490073...           47.0   \n",
       "3        1023 9TH ST\\nONAWA 51040\\n(42.025841, -96.095845)           67.0   \n",
       "4        512 E OSKALOOSA\\nPELLA 50219\\n(41.397023, -92....           63.0   \n",
       "...                                                    ...            ...   \n",
       "1497594  201 S FRONT ST\\nMONTEZUMA 50171\\n(41.584179, -...           79.0   \n",
       "1497595  885 MILLER RD\\nHIAWATHA 52233\\n(42.046291, -91...           57.0   \n",
       "1497596  4218 MORNINGSIDE AVE\\nSIOUX CITY 51106\\n(42.47...           97.0   \n",
       "1497597  1621 UNIVERSITY AVE\\nDES MOINES 50314\\n(41.600...           77.0   \n",
       "1497598  2510 SW STATE ST\\nANKENY 50023\\n(41.704185, -9...           77.0   \n",
       "\n",
       "             County   Category                   Category Name  \n",
       "0        Black Hawk  1701100.0  DECANTERS & SPECIALTY PACKAGES  \n",
       "1         Muscatine  1701100.0  DECANTERS & SPECIALTY PACKAGES  \n",
       "2               Ida  1701100.0  DECANTERS & SPECIALTY PACKAGES  \n",
       "3            Monona  1081200.0                  CREAM LIQUEURS  \n",
       "4            Marion  1701100.0  DECANTERS & SPECIALTY PACKAGES  \n",
       "...             ...        ...                             ...  \n",
       "1497594   Poweshiek  1031080.0                  VODKA 80 PROOF  \n",
       "1497595        Linn  1051010.0         AMERICAN GRAPE BRANDIES  \n",
       "1497596    Woodbury  1032200.0           IMPORTED VODKA - MISC  \n",
       "1497597        Polk  1052010.0         IMPORTED GRAPE BRANDIES  \n",
       "1497598        Polk  1012100.0               CANADIAN WHISKIES  \n",
       "\n",
       "[1497599 rows x 12 columns]"
      ]
     },
     "execution_count": 6,
     "metadata": {},
     "output_type": "execute_result"
    }
   ],
   "source": [
    "df.drop(columns='Unnamed: 0').to_csv('test.csv', index=False)"
   ]
  },
  {
   "cell_type": "code",
   "execution_count": 15,
   "metadata": {
    "scrolled": true
   },
   "outputs": [
    {
     "data": {
      "text/plain": [
       "Invoice/Item Number     object\n",
       "Date                    object\n",
       "Store Number             int64\n",
       "Store Name              object\n",
       "Address                 object\n",
       "City                    object\n",
       "Zip Code                object\n",
       "Store Location          object\n",
       "County Number          float64\n",
       "County                  object\n",
       "Category               float64\n",
       "Category Name           object\n",
       "dtype: object"
      ]
     },
     "execution_count": 15,
     "metadata": {},
     "output_type": "execute_result"
    }
   ],
   "source": [
    "df.dtypes\n"
   ]
  },
  {
   "cell_type": "code",
   "execution_count": 17,
   "metadata": {},
   "outputs": [],
   "source": [
    "df = df.astype({\"County Number\": 'int64', \"Category\": 'int64'})"
   ]
  },
  {
   "cell_type": "markdown",
   "metadata": {},
   "source": [
    "We load our data into a pandas dataframe. For the purpose of manageability we drop columns columns 13-32 and rows 1,500,000+. After dropping duplicates and rows with empty entries, we are left with a 12 x 1,497,599 dataframe, with the columns as shown above. Just based off of the names of the columns we can see there are definitely some dependencies between columns and duplication of data. For example, you would expect County Number to always correspond to the same County in all entries. "
   ]
  },
  {
   "cell_type": "code",
   "execution_count": 18,
   "metadata": {},
   "outputs": [
    {
     "name": "stderr",
     "output_type": "stream",
     "text": [
      "100%|██████████| 11/11 [12:21<00:00, 42.05s/it]\n"
     ]
    },
    {
     "data": {
      "text/plain": [
       "775.6972498893738"
      ]
     },
     "execution_count": 18,
     "metadata": {},
     "output_type": "execute_result"
    }
   ],
   "source": [
    "start = time.time()\n",
    "entityset = an.auto_entityset(df, accuracy=0.96, name='liquor orders')\n",
    "time.time() - start"
   ]
  },
  {
   "cell_type": "markdown",
   "metadata": {},
   "source": [
    "To detect the dependencies, normalize the data and create an entity set all at once, all we need to do is call an.auto_entityset(). We pass 96% as the desired accuracy, and 'liquor orders\" as the desired name for our entity set. This takes about 11 minutes, for the 1.5 million rows and 12 columns."
   ]
  },
  {
   "cell_type": "code",
   "execution_count": 19,
   "metadata": {
    "scrolled": false
   },
   "outputs": [
    {
     "data": {
      "image/svg+xml": "<?xml version=\"1.0\" encoding=\"UTF-8\" standalone=\"no\"?>\n<!DOCTYPE svg PUBLIC \"-//W3C//DTD SVG 1.1//EN\"\n \"http://www.w3.org/Graphics/SVG/1.1/DTD/svg11.dtd\">\n<!-- Generated by graphviz version 2.40.1 (20161225.0304)\n -->\n<!-- Title: liquor orders Pages: 1 -->\n<svg width=\"358pt\" height=\"517pt\"\n viewBox=\"0.00 0.00 357.65 517.00\" xmlns=\"http://www.w3.org/2000/svg\" xmlns:xlink=\"http://www.w3.org/1999/xlink\">\n<g id=\"graph0\" class=\"graph\" transform=\"scale(1 1) rotate(0) translate(4 513)\">\n<title>liquor orders</title>\n<polygon fill=\"#ffffff\" stroke=\"transparent\" points=\"-4,4 -4,-513 353.6523,-513 353.6523,4 -4,4\"/>\n<!-- Invoice/Item Number -->\n<g id=\"node1\" class=\"node\">\n<title>Invoice/Item Number</title>\n<polygon fill=\"none\" stroke=\"#000000\" points=\"90.8208,-422.5 90.8208,-508.5 269.7144,-508.5 269.7144,-422.5 90.8208,-422.5\"/>\n<text text-anchor=\"middle\" x=\"180.2676\" y=\"-493.3\" font-family=\"Times,serif\" font-size=\"14.00\" fill=\"#000000\">Invoice/Item Number</text>\n<polyline fill=\"none\" stroke=\"#000000\" points=\"90.8208,-486.5 269.7144,-486.5 \"/>\n<text text-anchor=\"start\" x=\"98.8208\" y=\"-471.3\" font-family=\"Times,serif\" font-size=\"14.00\" fill=\"#000000\">Invoice/Item Number : index</text>\n<text text-anchor=\"start\" x=\"98.8208\" y=\"-457.3\" font-family=\"Times,serif\" font-size=\"14.00\" fill=\"#000000\">Date : datetime</text>\n<text text-anchor=\"start\" x=\"98.8208\" y=\"-443.3\" font-family=\"Times,serif\" font-size=\"14.00\" fill=\"#000000\">Store Number : id</text>\n<text text-anchor=\"start\" x=\"98.8208\" y=\"-429.3\" font-family=\"Times,serif\" font-size=\"14.00\" fill=\"#000000\">Category : id</text>\n</g>\n<!-- Category -->\n<g id=\"node2\" class=\"node\">\n<title>Category</title>\n<polygon fill=\"none\" stroke=\"#000000\" points=\"0,-306.5 0,-364.5 176.5352,-364.5 176.5352,-306.5 0,-306.5\"/>\n<text text-anchor=\"middle\" x=\"88.2676\" y=\"-349.3\" font-family=\"Times,serif\" font-size=\"14.00\" fill=\"#000000\">Category</text>\n<polyline fill=\"none\" stroke=\"#000000\" points=\"0,-342.5 176.5352,-342.5 \"/>\n<text text-anchor=\"start\" x=\"8\" y=\"-327.3\" font-family=\"Times,serif\" font-size=\"14.00\" fill=\"#000000\">Category : index</text>\n<text text-anchor=\"start\" x=\"8\" y=\"-313.3\" font-family=\"Times,serif\" font-size=\"14.00\" fill=\"#000000\">Category Name : categorical</text>\n</g>\n<!-- Invoice/Item Number&#45;&gt;Category -->\n<g id=\"edge2\" class=\"edge\">\n<title>Invoice/Item Number&#45;&gt;Category</title>\n<path fill=\"none\" stroke=\"#000000\" d=\"M133.678,-422.2119C133.678,-422.2119 133.678,-374.6745 133.678,-374.6745\"/>\n<polygon fill=\"#000000\" stroke=\"#000000\" points=\"137.1781,-374.6745 133.678,-364.6745 130.1781,-374.6746 137.1781,-374.6745\"/>\n<text text-anchor=\"middle\" x=\"108.0193\" y=\"-401.2432\" font-family=\"Times,serif\" font-size=\"14.00\" fill=\"#000000\">Category</text>\n</g>\n<!-- Store Number -->\n<g id=\"node3\" class=\"node\">\n<title>Store Number</title>\n<polygon fill=\"none\" stroke=\"#000000\" points=\"194.8828,-285.5 194.8828,-385.5 349.6523,-385.5 349.6523,-285.5 194.8828,-285.5\"/>\n<text text-anchor=\"middle\" x=\"272.2676\" y=\"-370.3\" font-family=\"Times,serif\" font-size=\"14.00\" fill=\"#000000\">Store Number</text>\n<polyline fill=\"none\" stroke=\"#000000\" points=\"194.8828,-363.5 349.6523,-363.5 \"/>\n<text text-anchor=\"start\" x=\"202.8828\" y=\"-348.3\" font-family=\"Times,serif\" font-size=\"14.00\" fill=\"#000000\">Store Number : index</text>\n<text text-anchor=\"start\" x=\"202.8828\" y=\"-334.3\" font-family=\"Times,serif\" font-size=\"14.00\" fill=\"#000000\">Store Name : categorical</text>\n<text text-anchor=\"start\" x=\"202.8828\" y=\"-320.3\" font-family=\"Times,serif\" font-size=\"14.00\" fill=\"#000000\">Address : categorical</text>\n<text text-anchor=\"start\" x=\"202.8828\" y=\"-306.3\" font-family=\"Times,serif\" font-size=\"14.00\" fill=\"#000000\">Zip Code : id</text>\n<text text-anchor=\"start\" x=\"202.8828\" y=\"-292.3\" font-family=\"Times,serif\" font-size=\"14.00\" fill=\"#000000\">Store Location : text</text>\n</g>\n<!-- Invoice/Item Number&#45;&gt;Store Number -->\n<g id=\"edge1\" class=\"edge\">\n<title>Invoice/Item Number&#45;&gt;Store Number</title>\n<path fill=\"none\" stroke=\"#000000\" d=\"M232.2986,-422.2119C232.2986,-422.2119 232.2986,-395.7992 232.2986,-395.7992\"/>\n<polygon fill=\"#000000\" stroke=\"#000000\" points=\"235.7987,-395.7991 232.2986,-385.7992 228.7987,-395.7992 235.7987,-395.7991\"/>\n<text text-anchor=\"middle\" x=\"192.8347\" y=\"-397.8055\" font-family=\"Times,serif\" font-size=\"14.00\" fill=\"#000000\">Store Number</text>\n</g>\n<!-- Zip Code -->\n<g id=\"node4\" class=\"node\">\n<title>Zip Code</title>\n<polygon fill=\"none\" stroke=\"#000000\" points=\"217.0244,-190.5 217.0244,-248.5 327.5107,-248.5 327.5107,-190.5 217.0244,-190.5\"/>\n<text text-anchor=\"middle\" x=\"272.2676\" y=\"-233.3\" font-family=\"Times,serif\" font-size=\"14.00\" fill=\"#000000\">Zip Code</text>\n<polyline fill=\"none\" stroke=\"#000000\" points=\"217.0244,-226.5 327.5107,-226.5 \"/>\n<text text-anchor=\"start\" x=\"225.0244\" y=\"-211.3\" font-family=\"Times,serif\" font-size=\"14.00\" fill=\"#000000\">Zip Code : index</text>\n<text text-anchor=\"start\" x=\"225.0244\" y=\"-197.3\" font-family=\"Times,serif\" font-size=\"14.00\" fill=\"#000000\">City : id</text>\n</g>\n<!-- Store Number&#45;&gt;Zip Code -->\n<g id=\"edge3\" class=\"edge\">\n<title>Store Number&#45;&gt;Zip Code</title>\n<path fill=\"none\" stroke=\"#000000\" d=\"M272.2676,-285.2954C272.2676,-285.2954 272.2676,-258.7225 272.2676,-258.7225\"/>\n<polygon fill=\"#000000\" stroke=\"#000000\" points=\"275.7677,-258.7225 272.2676,-248.7225 268.7677,-258.7226 275.7677,-258.7225\"/>\n<text text-anchor=\"middle\" x=\"246.021\" y=\"-260.809\" font-family=\"Times,serif\" font-size=\"14.00\" fill=\"#000000\">Zip Code</text>\n</g>\n<!-- City -->\n<g id=\"node5\" class=\"node\">\n<title>City</title>\n<polygon fill=\"none\" stroke=\"#000000\" points=\"208.0762,-95.5 208.0762,-153.5 336.459,-153.5 336.459,-95.5 208.0762,-95.5\"/>\n<text text-anchor=\"middle\" x=\"272.2676\" y=\"-138.3\" font-family=\"Times,serif\" font-size=\"14.00\" fill=\"#000000\">City</text>\n<polyline fill=\"none\" stroke=\"#000000\" points=\"208.0762,-131.5 336.459,-131.5 \"/>\n<text text-anchor=\"start\" x=\"216.0762\" y=\"-116.3\" font-family=\"Times,serif\" font-size=\"14.00\" fill=\"#000000\">City : index</text>\n<text text-anchor=\"start\" x=\"216.0762\" y=\"-102.3\" font-family=\"Times,serif\" font-size=\"14.00\" fill=\"#000000\">County Number : id</text>\n</g>\n<!-- Zip Code&#45;&gt;City -->\n<g id=\"edge4\" class=\"edge\">\n<title>Zip Code&#45;&gt;City</title>\n<path fill=\"none\" stroke=\"#000000\" d=\"M272.2676,-190.4807C272.2676,-190.4807 272.2676,-163.669 272.2676,-163.669\"/>\n<polygon fill=\"#000000\" stroke=\"#000000\" points=\"275.7677,-163.6689 272.2676,-153.669 268.7677,-163.669 275.7677,-163.6689\"/>\n<text text-anchor=\"middle\" x=\"260.209\" y=\"-165.8748\" font-family=\"Times,serif\" font-size=\"14.00\" fill=\"#000000\">City</text>\n</g>\n<!-- County Number -->\n<g id=\"node6\" class=\"node\">\n<title>County Number</title>\n<polygon fill=\"none\" stroke=\"#000000\" points=\"197.9692,-.5 197.9692,-58.5 346.5659,-58.5 346.5659,-.5 197.9692,-.5\"/>\n<text text-anchor=\"middle\" x=\"272.2676\" y=\"-43.3\" font-family=\"Times,serif\" font-size=\"14.00\" fill=\"#000000\">County Number</text>\n<polyline fill=\"none\" stroke=\"#000000\" points=\"197.9692,-36.5 346.5659,-36.5 \"/>\n<text text-anchor=\"start\" x=\"205.9692\" y=\"-21.3\" font-family=\"Times,serif\" font-size=\"14.00\" fill=\"#000000\">County Number : index</text>\n<text text-anchor=\"start\" x=\"205.9692\" y=\"-7.3\" font-family=\"Times,serif\" font-size=\"14.00\" fill=\"#000000\">County : categorical</text>\n</g>\n<!-- City&#45;&gt;County Number -->\n<g id=\"edge5\" class=\"edge\">\n<title>City&#45;&gt;County Number</title>\n<path fill=\"none\" stroke=\"#000000\" d=\"M272.2676,-95.4807C272.2676,-95.4807 272.2676,-68.669 272.2676,-68.669\"/>\n<polygon fill=\"#000000\" stroke=\"#000000\" points=\"275.7677,-68.6689 272.2676,-58.669 268.7677,-68.669 275.7677,-68.6689\"/>\n<text text-anchor=\"middle\" x=\"226.9658\" y=\"-70.8748\" font-family=\"Times,serif\" font-size=\"14.00\" fill=\"#000000\">County Number</text>\n</g>\n</g>\n</svg>\n",
      "text/plain": [
       "<graphviz.dot.Digraph at 0x1dda397d0>"
      ]
     },
     "execution_count": 19,
     "metadata": {},
     "output_type": "execute_result"
    }
   ],
   "source": [
    "entityset.plot()"
   ]
  },
  {
   "cell_type": "markdown",
   "metadata": {},
   "source": [
    "Above you can see plotted the entities within entityset, and the relationships between them. Each entity contains the data from the original df with duplication removed. "
   ]
  },
  {
   "cell_type": "code",
   "execution_count": 20,
   "metadata": {},
   "outputs": [
    {
     "data": {
      "text/plain": [
       "Entityset: liquor orders\n",
       "  Entities:\n",
       "    Invoice/Item Number [Rows: 1497599, Columns: 4]\n",
       "    Category [Rows: 75, Columns: 2]\n",
       "    Store Number [Rows: 1574, Columns: 5]\n",
       "    Zip Code [Rows: 422, Columns: 2]\n",
       "    City [Rows: 377, Columns: 2]\n",
       "    County Number [Rows: 99, Columns: 2]\n",
       "  Relationships:\n",
       "    Invoice/Item Number.Store Number -> Store Number.Store Number\n",
       "    Invoice/Item Number.Category -> Category.Category\n",
       "    Store Number.Zip Code -> Zip Code.Zip Code\n",
       "    Zip Code.City -> City.City\n",
       "    City.County Number -> County Number.County Number"
      ]
     },
     "execution_count": 20,
     "metadata": {},
     "output_type": "execute_result"
    }
   ],
   "source": [
    "entityset"
   ]
  },
  {
   "cell_type": "code",
   "execution_count": null,
   "metadata": {},
   "outputs": [],
   "source": []
  }
 ],
 "metadata": {
  "kernelspec": {
   "display_name": "Python 3",
   "language": "python",
   "name": "python3"
  },
  "language_info": {
   "codemirror_mode": {
    "name": "ipython",
    "version": 3
   },
   "file_extension": ".py",
   "mimetype": "text/x-python",
   "name": "python",
   "nbconvert_exporter": "python",
   "pygments_lexer": "ipython3",
   "version": "3.8.5"
  }
 },
 "nbformat": 4,
 "nbformat_minor": 2
}
