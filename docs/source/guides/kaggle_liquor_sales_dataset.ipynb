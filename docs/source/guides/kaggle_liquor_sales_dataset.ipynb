{
 "cells": [
  {
   "cell_type": "markdown",
   "metadata": {},
   "source": [
    "# AUTONORMALIZE DEMO \n",
    "Using Autonormalize to normalize a kaggle dataset about liquor purchasing orders."
   ]
  },
  {
   "cell_type": "markdown",
   "metadata": {},
   "source": [
    "This dataset can be found on kaggle at https://www.kaggle.com/residentmario/iowa-liquor-sales. "
   ]
  },
  {
   "cell_type": "code",
   "execution_count": 11,
   "metadata": {},
   "outputs": [],
   "source": [
    "import os\n",
    "import time\n",
    "\n",
    "import pandas as pd\n",
    "from featuretools.autonormalize import autonormalize as an"
   ]
  },
  {
   "cell_type": "code",
   "execution_count": 14,
   "metadata": {
    "scrolled": true
   },
   "outputs": [
    {
     "name": "stderr",
     "output_type": "stream",
     "text": [
      "/usr/local/lib/python3.7/site-packages/IPython/core/interactiveshell.py:3049: DtypeWarning: Columns (6) have mixed types. Specify dtype option on import or set low_memory=False.\n",
      "  interactivity=interactivity, compiler=compiler, result=result)\n"
     ]
    },
    {
     "name": "stdout",
     "output_type": "stream",
     "text": [
      "Rows: 1497599\n",
      "Columns: 12\n"
     ]
    },
    {
     "data": {
      "text/html": [
       "<div>\n",
       "<style scoped>\n",
       "    .dataframe tbody tr th:only-of-type {\n",
       "        vertical-align: middle;\n",
       "    }\n",
       "\n",
       "    .dataframe tbody tr th {\n",
       "        vertical-align: top;\n",
       "    }\n",
       "\n",
       "    .dataframe thead th {\n",
       "        text-align: right;\n",
       "    }\n",
       "</style>\n",
       "<table border=\"1\" class=\"dataframe\">\n",
       "  <thead>\n",
       "    <tr style=\"text-align: right;\">\n",
       "      <th></th>\n",
       "      <th>Invoice/Item Number</th>\n",
       "      <th>Date</th>\n",
       "      <th>Store Number</th>\n",
       "      <th>Store Name</th>\n",
       "      <th>Address</th>\n",
       "      <th>City</th>\n",
       "      <th>Zip Code</th>\n",
       "      <th>Store Location</th>\n",
       "      <th>County Number</th>\n",
       "      <th>County</th>\n",
       "      <th>Category</th>\n",
       "      <th>Category Name</th>\n",
       "    </tr>\n",
       "  </thead>\n",
       "  <tbody>\n",
       "    <tr>\n",
       "      <th>6</th>\n",
       "      <td>S28865700001</td>\n",
       "      <td>11/09/2015</td>\n",
       "      <td>2538</td>\n",
       "      <td>Hy-Vee Food Store #3 / Waterloo</td>\n",
       "      <td>1422 FLAMMANG DR</td>\n",
       "      <td>WATERLOO</td>\n",
       "      <td>50702</td>\n",
       "      <td>1422 FLAMMANG DR\\nWATERLOO 50702\\n(42.459938, ...</td>\n",
       "      <td>7.0</td>\n",
       "      <td>Black Hawk</td>\n",
       "      <td>1701100.0</td>\n",
       "      <td>DECANTERS &amp; SPECIALTY PACKAGES</td>\n",
       "    </tr>\n",
       "    <tr>\n",
       "      <th>8</th>\n",
       "      <td>S29339300091</td>\n",
       "      <td>11/30/2015</td>\n",
       "      <td>2662</td>\n",
       "      <td>Hy-Vee Wine &amp; Spirits / Muscatine</td>\n",
       "      <td>522 MULBERRY, SUITE A</td>\n",
       "      <td>MUSCATINE</td>\n",
       "      <td>52761</td>\n",
       "      <td>522 MULBERRY, SUITE A\\nMUSCATINE 52761\\n</td>\n",
       "      <td>70.0</td>\n",
       "      <td>Muscatine</td>\n",
       "      <td>1701100.0</td>\n",
       "      <td>DECANTERS &amp; SPECIALTY PACKAGES</td>\n",
       "    </tr>\n",
       "    <tr>\n",
       "      <th>13</th>\n",
       "      <td>S28866900001</td>\n",
       "      <td>11/11/2015</td>\n",
       "      <td>3650</td>\n",
       "      <td>Spirits, Stogies and Stuff</td>\n",
       "      <td>118 South Main St.</td>\n",
       "      <td>HOLSTEIN</td>\n",
       "      <td>51025</td>\n",
       "      <td>118 South Main St.\\nHOLSTEIN 51025\\n(42.490073...</td>\n",
       "      <td>47.0</td>\n",
       "      <td>Ida</td>\n",
       "      <td>1701100.0</td>\n",
       "      <td>DECANTERS &amp; SPECIALTY PACKAGES</td>\n",
       "    </tr>\n",
       "  </tbody>\n",
       "</table>\n",
       "</div>"
      ],
      "text/plain": [
       "   Invoice/Item Number        Date  Store Number  \\\n",
       "6         S28865700001  11/09/2015          2538   \n",
       "8         S29339300091  11/30/2015          2662   \n",
       "13        S28866900001  11/11/2015          3650   \n",
       "\n",
       "                           Store Name                Address       City  \\\n",
       "6     Hy-Vee Food Store #3 / Waterloo       1422 FLAMMANG DR   WATERLOO   \n",
       "8   Hy-Vee Wine & Spirits / Muscatine  522 MULBERRY, SUITE A  MUSCATINE   \n",
       "13         Spirits, Stogies and Stuff     118 South Main St.   HOLSTEIN   \n",
       "\n",
       "   Zip Code                                     Store Location  County Number  \\\n",
       "6     50702  1422 FLAMMANG DR\\nWATERLOO 50702\\n(42.459938, ...            7.0   \n",
       "8     52761           522 MULBERRY, SUITE A\\nMUSCATINE 52761\\n           70.0   \n",
       "13    51025  118 South Main St.\\nHOLSTEIN 51025\\n(42.490073...           47.0   \n",
       "\n",
       "        County   Category                   Category Name  \n",
       "6   Black Hawk  1701100.0  DECANTERS & SPECIALTY PACKAGES  \n",
       "8    Muscatine  1701100.0  DECANTERS & SPECIALTY PACKAGES  \n",
       "13         Ida  1701100.0  DECANTERS & SPECIALTY PACKAGES  "
      ]
     },
     "execution_count": 14,
     "metadata": {},
     "output_type": "execute_result"
    }
   ],
   "source": [
    "df = pd.read_csv(os.path.join(os.path.abspath(os.path.join('..','..', 'autonormalize/downloads/liquor.csv'))))\n",
    "df = df.drop(columns=df.columns[12:])\n",
    "df = df.drop(range(1500000, 12591077))\n",
    "df = df.dropna()\n",
    "df = df.drop_duplicates()\n",
    "print(\"Rows: \"+ str(df.shape[0]))\n",
    "print(\"Columns: \" + str(df.shape[1]))\n",
    "df.head(3)"
   ]
  },
  {
   "cell_type": "code",
   "execution_count": 15,
   "metadata": {
    "scrolled": true
   },
   "outputs": [
    {
     "data": {
      "text/plain": [
       "Invoice/Item Number     object\n",
       "Date                    object\n",
       "Store Number             int64\n",
       "Store Name              object\n",
       "Address                 object\n",
       "City                    object\n",
       "Zip Code                object\n",
       "Store Location          object\n",
       "County Number          float64\n",
       "County                  object\n",
       "Category               float64\n",
       "Category Name           object\n",
       "dtype: object"
      ]
     },
     "execution_count": 15,
     "metadata": {},
     "output_type": "execute_result"
    }
   ],
   "source": [
    "df.dtypes\n"
   ]
  },
  {
   "cell_type": "code",
   "execution_count": 17,
   "metadata": {},
   "outputs": [],
   "source": [
    "df = df.astype({\"County Number\": 'int64', \"Category\": 'int64'})"
   ]
  },
  {
   "cell_type": "markdown",
   "metadata": {},
   "source": [
    "We load our data into a pandas dataframe. For the purpose of manageability we drop columns columns 13-32 and rows 1,500,000+. After dropping duplicates and rows with empty entries, we are left with a 12 x 1,497,599 dataframe, with the columns as shown above. Just based off of the names of the columns we can see there are definitely some dependencies between columns and duplication of data. For example, you would expect County Number to always correspond to the same County in all entries. "
   ]
  },
  {
   "cell_type": "code",
   "execution_count": 18,
   "metadata": {},
   "outputs": [
    {
     "name": "stderr",
     "output_type": "stream",
     "text": [
      "100%|██████████| 11/11 [12:21<00:00, 42.05s/it]\n"
     ]
    },
    {
     "data": {
      "text/plain": [
       "775.6972498893738"
      ]
     },
     "execution_count": 18,
     "metadata": {},
     "output_type": "execute_result"
    }
   ],
   "source": [
    "start = time.time()\n",
    "entityset = an.auto_entityset(df, accuracy=0.96, name='liquor orders')\n",
    "time.time() - start"
   ]
  },
  {
   "cell_type": "markdown",
   "metadata": {},
   "source": [
    "To detect the dependencies, normalize the data and create an entity set all at once, all we need to do is call an.auto_entityset(). We pass 96% as the desired accuracy, and 'liquor orders\" as the desired name for our entity set. This takes about 11 minutes, for the 1.5 million rows and 12 columns."
   ]
  },
  {
   "cell_type": "code",
   "execution_count": 19,
   "metadata": {
    "scrolled": false
   },
   "outputs": [
    {
     "data": {
      "image/svg+xml": [
       "<?xml version=\"1.0\" encoding=\"UTF-8\" standalone=\"no\"?>\n",
       "<!DOCTYPE svg PUBLIC \"-//W3C//DTD SVG 1.1//EN\"\n",
       " \"http://www.w3.org/Graphics/SVG/1.1/DTD/svg11.dtd\">\n",
       "<!-- Generated by graphviz version 2.40.1 (20161225.0304)\n",
       " -->\n",
       "<!-- Title: liquor orders Pages: 1 -->\n",
       "<svg width=\"358pt\" height=\"517pt\"\n",
       " viewBox=\"0.00 0.00 357.65 517.00\" xmlns=\"http://www.w3.org/2000/svg\" xmlns:xlink=\"http://www.w3.org/1999/xlink\">\n",
       "<g id=\"graph0\" class=\"graph\" transform=\"scale(1 1) rotate(0) translate(4 513)\">\n",
       "<title>liquor orders</title>\n",
       "<polygon fill=\"#ffffff\" stroke=\"transparent\" points=\"-4,4 -4,-513 353.6523,-513 353.6523,4 -4,4\"/>\n",
       "<!-- Invoice/Item Number -->\n",
       "<g id=\"node1\" class=\"node\">\n",
       "<title>Invoice/Item Number</title>\n",
       "<polygon fill=\"none\" stroke=\"#000000\" points=\"90.8208,-422.5 90.8208,-508.5 269.7144,-508.5 269.7144,-422.5 90.8208,-422.5\"/>\n",
       "<text text-anchor=\"middle\" x=\"180.2676\" y=\"-493.3\" font-family=\"Times,serif\" font-size=\"14.00\" fill=\"#000000\">Invoice/Item Number</text>\n",
       "<polyline fill=\"none\" stroke=\"#000000\" points=\"90.8208,-486.5 269.7144,-486.5 \"/>\n",
       "<text text-anchor=\"start\" x=\"98.8208\" y=\"-471.3\" font-family=\"Times,serif\" font-size=\"14.00\" fill=\"#000000\">Invoice/Item Number : index</text>\n",
       "<text text-anchor=\"start\" x=\"98.8208\" y=\"-457.3\" font-family=\"Times,serif\" font-size=\"14.00\" fill=\"#000000\">Date : datetime</text>\n",
       "<text text-anchor=\"start\" x=\"98.8208\" y=\"-443.3\" font-family=\"Times,serif\" font-size=\"14.00\" fill=\"#000000\">Store Number : id</text>\n",
       "<text text-anchor=\"start\" x=\"98.8208\" y=\"-429.3\" font-family=\"Times,serif\" font-size=\"14.00\" fill=\"#000000\">Category : id</text>\n",
       "</g>\n",
       "<!-- Category -->\n",
       "<g id=\"node2\" class=\"node\">\n",
       "<title>Category</title>\n",
       "<polygon fill=\"none\" stroke=\"#000000\" points=\"0,-306.5 0,-364.5 176.5352,-364.5 176.5352,-306.5 0,-306.5\"/>\n",
       "<text text-anchor=\"middle\" x=\"88.2676\" y=\"-349.3\" font-family=\"Times,serif\" font-size=\"14.00\" fill=\"#000000\">Category</text>\n",
       "<polyline fill=\"none\" stroke=\"#000000\" points=\"0,-342.5 176.5352,-342.5 \"/>\n",
       "<text text-anchor=\"start\" x=\"8\" y=\"-327.3\" font-family=\"Times,serif\" font-size=\"14.00\" fill=\"#000000\">Category : index</text>\n",
       "<text text-anchor=\"start\" x=\"8\" y=\"-313.3\" font-family=\"Times,serif\" font-size=\"14.00\" fill=\"#000000\">Category Name : categorical</text>\n",
       "</g>\n",
       "<!-- Invoice/Item Number&#45;&gt;Category -->\n",
       "<g id=\"edge2\" class=\"edge\">\n",
       "<title>Invoice/Item Number&#45;&gt;Category</title>\n",
       "<path fill=\"none\" stroke=\"#000000\" d=\"M133.678,-422.2119C133.678,-422.2119 133.678,-374.6745 133.678,-374.6745\"/>\n",
       "<polygon fill=\"#000000\" stroke=\"#000000\" points=\"137.1781,-374.6745 133.678,-364.6745 130.1781,-374.6746 137.1781,-374.6745\"/>\n",
       "<text text-anchor=\"middle\" x=\"108.0193\" y=\"-401.2432\" font-family=\"Times,serif\" font-size=\"14.00\" fill=\"#000000\">Category</text>\n",
       "</g>\n",
       "<!-- Store Number -->\n",
       "<g id=\"node3\" class=\"node\">\n",
       "<title>Store Number</title>\n",
       "<polygon fill=\"none\" stroke=\"#000000\" points=\"194.8828,-285.5 194.8828,-385.5 349.6523,-385.5 349.6523,-285.5 194.8828,-285.5\"/>\n",
       "<text text-anchor=\"middle\" x=\"272.2676\" y=\"-370.3\" font-family=\"Times,serif\" font-size=\"14.00\" fill=\"#000000\">Store Number</text>\n",
       "<polyline fill=\"none\" stroke=\"#000000\" points=\"194.8828,-363.5 349.6523,-363.5 \"/>\n",
       "<text text-anchor=\"start\" x=\"202.8828\" y=\"-348.3\" font-family=\"Times,serif\" font-size=\"14.00\" fill=\"#000000\">Store Number : index</text>\n",
       "<text text-anchor=\"start\" x=\"202.8828\" y=\"-334.3\" font-family=\"Times,serif\" font-size=\"14.00\" fill=\"#000000\">Store Name : categorical</text>\n",
       "<text text-anchor=\"start\" x=\"202.8828\" y=\"-320.3\" font-family=\"Times,serif\" font-size=\"14.00\" fill=\"#000000\">Address : categorical</text>\n",
       "<text text-anchor=\"start\" x=\"202.8828\" y=\"-306.3\" font-family=\"Times,serif\" font-size=\"14.00\" fill=\"#000000\">Zip Code : id</text>\n",
       "<text text-anchor=\"start\" x=\"202.8828\" y=\"-292.3\" font-family=\"Times,serif\" font-size=\"14.00\" fill=\"#000000\">Store Location : text</text>\n",
       "</g>\n",
       "<!-- Invoice/Item Number&#45;&gt;Store Number -->\n",
       "<g id=\"edge1\" class=\"edge\">\n",
       "<title>Invoice/Item Number&#45;&gt;Store Number</title>\n",
       "<path fill=\"none\" stroke=\"#000000\" d=\"M232.2986,-422.2119C232.2986,-422.2119 232.2986,-395.7992 232.2986,-395.7992\"/>\n",
       "<polygon fill=\"#000000\" stroke=\"#000000\" points=\"235.7987,-395.7991 232.2986,-385.7992 228.7987,-395.7992 235.7987,-395.7991\"/>\n",
       "<text text-anchor=\"middle\" x=\"192.8347\" y=\"-397.8055\" font-family=\"Times,serif\" font-size=\"14.00\" fill=\"#000000\">Store Number</text>\n",
       "</g>\n",
       "<!-- Zip Code -->\n",
       "<g id=\"node4\" class=\"node\">\n",
       "<title>Zip Code</title>\n",
       "<polygon fill=\"none\" stroke=\"#000000\" points=\"217.0244,-190.5 217.0244,-248.5 327.5107,-248.5 327.5107,-190.5 217.0244,-190.5\"/>\n",
       "<text text-anchor=\"middle\" x=\"272.2676\" y=\"-233.3\" font-family=\"Times,serif\" font-size=\"14.00\" fill=\"#000000\">Zip Code</text>\n",
       "<polyline fill=\"none\" stroke=\"#000000\" points=\"217.0244,-226.5 327.5107,-226.5 \"/>\n",
       "<text text-anchor=\"start\" x=\"225.0244\" y=\"-211.3\" font-family=\"Times,serif\" font-size=\"14.00\" fill=\"#000000\">Zip Code : index</text>\n",
       "<text text-anchor=\"start\" x=\"225.0244\" y=\"-197.3\" font-family=\"Times,serif\" font-size=\"14.00\" fill=\"#000000\">City : id</text>\n",
       "</g>\n",
       "<!-- Store Number&#45;&gt;Zip Code -->\n",
       "<g id=\"edge3\" class=\"edge\">\n",
       "<title>Store Number&#45;&gt;Zip Code</title>\n",
       "<path fill=\"none\" stroke=\"#000000\" d=\"M272.2676,-285.2954C272.2676,-285.2954 272.2676,-258.7225 272.2676,-258.7225\"/>\n",
       "<polygon fill=\"#000000\" stroke=\"#000000\" points=\"275.7677,-258.7225 272.2676,-248.7225 268.7677,-258.7226 275.7677,-258.7225\"/>\n",
       "<text text-anchor=\"middle\" x=\"246.021\" y=\"-260.809\" font-family=\"Times,serif\" font-size=\"14.00\" fill=\"#000000\">Zip Code</text>\n",
       "</g>\n",
       "<!-- City -->\n",
       "<g id=\"node5\" class=\"node\">\n",
       "<title>City</title>\n",
       "<polygon fill=\"none\" stroke=\"#000000\" points=\"208.0762,-95.5 208.0762,-153.5 336.459,-153.5 336.459,-95.5 208.0762,-95.5\"/>\n",
       "<text text-anchor=\"middle\" x=\"272.2676\" y=\"-138.3\" font-family=\"Times,serif\" font-size=\"14.00\" fill=\"#000000\">City</text>\n",
       "<polyline fill=\"none\" stroke=\"#000000\" points=\"208.0762,-131.5 336.459,-131.5 \"/>\n",
       "<text text-anchor=\"start\" x=\"216.0762\" y=\"-116.3\" font-family=\"Times,serif\" font-size=\"14.00\" fill=\"#000000\">City : index</text>\n",
       "<text text-anchor=\"start\" x=\"216.0762\" y=\"-102.3\" font-family=\"Times,serif\" font-size=\"14.00\" fill=\"#000000\">County Number : id</text>\n",
       "</g>\n",
       "<!-- Zip Code&#45;&gt;City -->\n",
       "<g id=\"edge4\" class=\"edge\">\n",
       "<title>Zip Code&#45;&gt;City</title>\n",
       "<path fill=\"none\" stroke=\"#000000\" d=\"M272.2676,-190.4807C272.2676,-190.4807 272.2676,-163.669 272.2676,-163.669\"/>\n",
       "<polygon fill=\"#000000\" stroke=\"#000000\" points=\"275.7677,-163.6689 272.2676,-153.669 268.7677,-163.669 275.7677,-163.6689\"/>\n",
       "<text text-anchor=\"middle\" x=\"260.209\" y=\"-165.8748\" font-family=\"Times,serif\" font-size=\"14.00\" fill=\"#000000\">City</text>\n",
       "</g>\n",
       "<!-- County Number -->\n",
       "<g id=\"node6\" class=\"node\">\n",
       "<title>County Number</title>\n",
       "<polygon fill=\"none\" stroke=\"#000000\" points=\"197.9692,-.5 197.9692,-58.5 346.5659,-58.5 346.5659,-.5 197.9692,-.5\"/>\n",
       "<text text-anchor=\"middle\" x=\"272.2676\" y=\"-43.3\" font-family=\"Times,serif\" font-size=\"14.00\" fill=\"#000000\">County Number</text>\n",
       "<polyline fill=\"none\" stroke=\"#000000\" points=\"197.9692,-36.5 346.5659,-36.5 \"/>\n",
       "<text text-anchor=\"start\" x=\"205.9692\" y=\"-21.3\" font-family=\"Times,serif\" font-size=\"14.00\" fill=\"#000000\">County Number : index</text>\n",
       "<text text-anchor=\"start\" x=\"205.9692\" y=\"-7.3\" font-family=\"Times,serif\" font-size=\"14.00\" fill=\"#000000\">County : categorical</text>\n",
       "</g>\n",
       "<!-- City&#45;&gt;County Number -->\n",
       "<g id=\"edge5\" class=\"edge\">\n",
       "<title>City&#45;&gt;County Number</title>\n",
       "<path fill=\"none\" stroke=\"#000000\" d=\"M272.2676,-95.4807C272.2676,-95.4807 272.2676,-68.669 272.2676,-68.669\"/>\n",
       "<polygon fill=\"#000000\" stroke=\"#000000\" points=\"275.7677,-68.6689 272.2676,-58.669 268.7677,-68.669 275.7677,-68.6689\"/>\n",
       "<text text-anchor=\"middle\" x=\"226.9658\" y=\"-70.8748\" font-family=\"Times,serif\" font-size=\"14.00\" fill=\"#000000\">County Number</text>\n",
       "</g>\n",
       "</g>\n",
       "</svg>\n"
      ],
      "text/plain": [
       "<graphviz.dot.Digraph at 0x1dda397d0>"
      ]
     },
     "execution_count": 19,
     "metadata": {},
     "output_type": "execute_result"
    }
   ],
   "source": [
    "entityset.plot()"
   ]
  },
  {
   "cell_type": "markdown",
   "metadata": {},
   "source": [
    "Above you can see plotted the entities within entityset, and the relationships between them. Each entity contains the data from the original df with duplication removed. "
   ]
  },
  {
   "cell_type": "code",
   "execution_count": 20,
   "metadata": {},
   "outputs": [
    {
     "data": {
      "text/plain": [
       "Entityset: liquor orders\n",
       "  Entities:\n",
       "    Invoice/Item Number [Rows: 1497599, Columns: 4]\n",
       "    Category [Rows: 75, Columns: 2]\n",
       "    Store Number [Rows: 1574, Columns: 5]\n",
       "    Zip Code [Rows: 422, Columns: 2]\n",
       "    City [Rows: 377, Columns: 2]\n",
       "    County Number [Rows: 99, Columns: 2]\n",
       "  Relationships:\n",
       "    Invoice/Item Number.Store Number -> Store Number.Store Number\n",
       "    Invoice/Item Number.Category -> Category.Category\n",
       "    Store Number.Zip Code -> Zip Code.Zip Code\n",
       "    Zip Code.City -> City.City\n",
       "    City.County Number -> County Number.County Number"
      ]
     },
     "execution_count": 20,
     "metadata": {},
     "output_type": "execute_result"
    }
   ],
   "source": [
    "entityset"
   ]
  },
  {
   "cell_type": "code",
   "execution_count": null,
   "metadata": {},
   "outputs": [],
   "source": []
  }
 ],
 "metadata": {
  "kernelspec": {
   "display_name": "Python 3",
   "language": "python",
   "name": "python3"
  },
  "language_info": {
   "codemirror_mode": {
    "name": "ipython",
    "version": 3
   },
   "file_extension": ".py",
   "mimetype": "text/x-python",
   "name": "python",
   "nbconvert_exporter": "python",
   "pygments_lexer": "ipython3",
   "version": "3.8.9"
  }
 },
 "nbformat": 4,
 "nbformat_minor": 2
}
