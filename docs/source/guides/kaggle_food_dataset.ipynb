{
 "cells": [
  {
   "cell_type": "markdown",
   "metadata": {},
   "source": [
    "# AUTONORMALIZE DEMO \n",
    "Using Autonormalize to normalize a kaggle dataset about food purchasing."
   ]
  },
  {
   "cell_type": "markdown",
   "metadata": {},
   "source": [
    "You can find the dataset for this demo on kaggle at https://www.kaggle.com/roshansharma/world-food-production."
   ]
  },
  {
   "cell_type": "code",
   "execution_count": 1,
   "metadata": {},
   "outputs": [],
   "source": [
    "import os\n",
    "\n",
    "import pandas as pd\n",
    "from featuretools.autonormalize import autonormalize as an"
   ]
  },
  {
   "cell_type": "code",
   "execution_count": 2,
   "metadata": {},
   "outputs": [
    {
     "data": {
      "text/html": [
       "<div>\n",
       "<style scoped>\n",
       "    .dataframe tbody tr th:only-of-type {\n",
       "        vertical-align: middle;\n",
       "    }\n",
       "\n",
       "    .dataframe tbody tr th {\n",
       "        vertical-align: top;\n",
       "    }\n",
       "\n",
       "    .dataframe thead th {\n",
       "        text-align: right;\n",
       "    }\n",
       "</style>\n",
       "<table border=\"1\" class=\"dataframe\">\n",
       "  <thead>\n",
       "    <tr style=\"text-align: right;\">\n",
       "      <th></th>\n",
       "      <th>Area Abbreviation</th>\n",
       "      <th>Area Code</th>\n",
       "      <th>Area</th>\n",
       "      <th>Item Code</th>\n",
       "      <th>Item</th>\n",
       "      <th>Element Code</th>\n",
       "      <th>Element</th>\n",
       "      <th>Unit</th>\n",
       "      <th>latitude</th>\n",
       "      <th>longitude</th>\n",
       "    </tr>\n",
       "  </thead>\n",
       "  <tbody>\n",
       "    <tr>\n",
       "      <th>0</th>\n",
       "      <td>AFG</td>\n",
       "      <td>2</td>\n",
       "      <td>Afghanistan</td>\n",
       "      <td>2511</td>\n",
       "      <td>Wheat and products</td>\n",
       "      <td>5142</td>\n",
       "      <td>Food</td>\n",
       "      <td>1000 tonnes</td>\n",
       "      <td>33.94</td>\n",
       "      <td>67.71</td>\n",
       "    </tr>\n",
       "    <tr>\n",
       "      <th>1</th>\n",
       "      <td>AFG</td>\n",
       "      <td>2</td>\n",
       "      <td>Afghanistan</td>\n",
       "      <td>2805</td>\n",
       "      <td>Rice (Milled Equivalent)</td>\n",
       "      <td>5142</td>\n",
       "      <td>Food</td>\n",
       "      <td>1000 tonnes</td>\n",
       "      <td>33.94</td>\n",
       "      <td>67.71</td>\n",
       "    </tr>\n",
       "    <tr>\n",
       "      <th>2</th>\n",
       "      <td>AFG</td>\n",
       "      <td>2</td>\n",
       "      <td>Afghanistan</td>\n",
       "      <td>2513</td>\n",
       "      <td>Barley and products</td>\n",
       "      <td>5521</td>\n",
       "      <td>Feed</td>\n",
       "      <td>1000 tonnes</td>\n",
       "      <td>33.94</td>\n",
       "      <td>67.71</td>\n",
       "    </tr>\n",
       "    <tr>\n",
       "      <th>3</th>\n",
       "      <td>AFG</td>\n",
       "      <td>2</td>\n",
       "      <td>Afghanistan</td>\n",
       "      <td>2513</td>\n",
       "      <td>Barley and products</td>\n",
       "      <td>5142</td>\n",
       "      <td>Food</td>\n",
       "      <td>1000 tonnes</td>\n",
       "      <td>33.94</td>\n",
       "      <td>67.71</td>\n",
       "    </tr>\n",
       "    <tr>\n",
       "      <th>4</th>\n",
       "      <td>AFG</td>\n",
       "      <td>2</td>\n",
       "      <td>Afghanistan</td>\n",
       "      <td>2514</td>\n",
       "      <td>Maize and products</td>\n",
       "      <td>5521</td>\n",
       "      <td>Feed</td>\n",
       "      <td>1000 tonnes</td>\n",
       "      <td>33.94</td>\n",
       "      <td>67.71</td>\n",
       "    </tr>\n",
       "  </tbody>\n",
       "</table>\n",
       "</div>"
      ],
      "text/plain": [
       "  Area Abbreviation  Area Code         Area  Item Code  \\\n",
       "0               AFG          2  Afghanistan       2511   \n",
       "1               AFG          2  Afghanistan       2805   \n",
       "2               AFG          2  Afghanistan       2513   \n",
       "3               AFG          2  Afghanistan       2513   \n",
       "4               AFG          2  Afghanistan       2514   \n",
       "\n",
       "                       Item  Element Code Element         Unit  latitude  \\\n",
       "0        Wheat and products          5142    Food  1000 tonnes     33.94   \n",
       "1  Rice (Milled Equivalent)          5142    Food  1000 tonnes     33.94   \n",
       "2       Barley and products          5521    Feed  1000 tonnes     33.94   \n",
       "3       Barley and products          5142    Food  1000 tonnes     33.94   \n",
       "4        Maize and products          5521    Feed  1000 tonnes     33.94   \n",
       "\n",
       "   longitude  \n",
       "0      67.71  \n",
       "1      67.71  \n",
       "2      67.71  \n",
       "3      67.71  \n",
       "4      67.71  "
      ]
     },
     "execution_count": 2,
     "metadata": {},
     "output_type": "execute_result"
    }
   ],
   "source": [
    "food_df = pd.read_csv('FAO.csv', encoding='latin1')\n",
    "food_df = food_df.drop(columns=food_df.columns[10:])\n",
    "food_df.head()"
   ]
  },
  {
   "cell_type": "code",
   "execution_count": 3,
   "metadata": {},
   "outputs": [
    {
     "name": "stderr",
     "output_type": "stream",
     "text": [
      "100%|██████████| 10/10 [00:03<00:00,  2.74it/s]\n"
     ]
    }
   ],
   "source": [
    "entityset = an.auto_entityset(food_df, name='Foods')"
   ]
  },
  {
   "cell_type": "code",
   "execution_count": 4,
   "metadata": {},
   "outputs": [
    {
     "data": {
      "text/plain": [
       "Entityset: Foods\n",
       "  DataFrames:\n",
       "    Area Code_Element Code_Item Code [Rows: 21477, Columns: 4]\n",
       "    Element Code [Rows: 2, Columns: 2]\n",
       "    Item Code [Rows: 117, Columns: 2]\n",
       "    Area Code [Rows: 174, Columns: 5]\n",
       "    Area Abbreviation [Rows: 169, Columns: 2]\n",
       "  Relationships:\n",
       "    Area Code_Element Code_Item Code.Area Code -> Area Code.Area Code\n",
       "    Area Code_Element Code_Item Code.Item Code -> Item Code.Item Code\n",
       "    Area Code_Element Code_Item Code.Element Code -> Element Code.Element Code\n",
       "    Area Code.Area Abbreviation -> Area Abbreviation.Area Abbreviation"
      ]
     },
     "execution_count": 4,
     "metadata": {},
     "output_type": "execute_result"
    }
   ],
   "source": [
    "entityset"
   ]
  },
  {
   "cell_type": "code",
   "execution_count": 5,
   "metadata": {},
   "outputs": [
    {
     "data": {
      "image/svg+xml": [
       "<?xml version=\"1.0\" encoding=\"UTF-8\" standalone=\"no\"?>\n",
       "<!DOCTYPE svg PUBLIC \"-//W3C//DTD SVG 1.1//EN\"\n",
       " \"http://www.w3.org/Graphics/SVG/1.1/DTD/svg11.dtd\">\n",
       "<!-- Generated by graphviz version 2.47.1 (20210417.1919)\n",
       " -->\n",
       "<!-- Title: Foods Pages: 1 -->\n",
       "<svg width=\"642pt\" height=\"341pt\"\n",
       " viewBox=\"0.00 0.00 642.00 341.00\" xmlns=\"http://www.w3.org/2000/svg\" xmlns:xlink=\"http://www.w3.org/1999/xlink\">\n",
       "<g id=\"graph0\" class=\"graph\" transform=\"scale(1 1) rotate(0) translate(4 337)\">\n",
       "<title>Foods</title>\n",
       "<polygon fill=\"white\" stroke=\"transparent\" points=\"-4,4 -4,-337 638,-337 638,4 -4,4\"/>\n",
       "<!-- Area Code_Element Code_Item Code -->\n",
       "<g id=\"node1\" class=\"node\">\n",
       "<title>Area Code_Element Code_Item Code</title>\n",
       "<polygon fill=\"none\" stroke=\"black\" points=\"125.5,-241.5 125.5,-332.5 436.5,-332.5 436.5,-241.5 125.5,-241.5\"/>\n",
       "<text text-anchor=\"middle\" x=\"281\" y=\"-317.3\" font-family=\"Times,serif\" font-size=\"14.00\">Area Code_Element Code_Item Code (21477 rows)</text>\n",
       "<polyline fill=\"none\" stroke=\"black\" points=\"125.5,-309.5 436.5,-309.5 \"/>\n",
       "<text text-anchor=\"start\" x=\"133.5\" y=\"-294.3\" font-family=\"Times,serif\" font-size=\"14.00\">Area Code_Element Code_Item Code : Integer; index</text>\n",
       "<text text-anchor=\"start\" x=\"133.5\" y=\"-279.3\" font-family=\"Times,serif\" font-size=\"14.00\">Area Code : Integer; foreign_key</text>\n",
       "<text text-anchor=\"start\" x=\"133.5\" y=\"-264.3\" font-family=\"Times,serif\" font-size=\"14.00\">Item Code : Integer; foreign_key</text>\n",
       "<text text-anchor=\"start\" x=\"133.5\" y=\"-249.3\" font-family=\"Times,serif\" font-size=\"14.00\">Element Code : Integer; foreign_key</text>\n",
       "</g>\n",
       "<!-- Element Code -->\n",
       "<g id=\"node2\" class=\"node\">\n",
       "<title>Element Code</title>\n",
       "<polygon fill=\"none\" stroke=\"black\" points=\"0,-121 0,-182 182,-182 182,-121 0,-121\"/>\n",
       "<text text-anchor=\"middle\" x=\"91\" y=\"-166.8\" font-family=\"Times,serif\" font-size=\"14.00\">Element Code (2 rows)</text>\n",
       "<polyline fill=\"none\" stroke=\"black\" points=\"0,-159 182,-159 \"/>\n",
       "<text text-anchor=\"start\" x=\"8\" y=\"-143.8\" font-family=\"Times,serif\" font-size=\"14.00\">Element Code : Integer; index</text>\n",
       "<text text-anchor=\"start\" x=\"8\" y=\"-128.8\" font-family=\"Times,serif\" font-size=\"14.00\">Element : Unknown</text>\n",
       "</g>\n",
       "<!-- Area Code_Element Code_Item Code&#45;&gt;Element Code -->\n",
       "<g id=\"edge3\" class=\"edge\">\n",
       "<title>Area Code_Element Code_Item Code&#45;&gt;Element Code</title>\n",
       "<path fill=\"none\" stroke=\"black\" d=\"M153.75,-241.13C153.75,-241.13 153.75,-192.4 153.75,-192.4\"/>\n",
       "<polygon fill=\"black\" stroke=\"black\" points=\"157.25,-192.4 153.75,-182.4 150.25,-192.4 157.25,-192.4\"/>\n",
       "<text text-anchor=\"middle\" x=\"114.25\" y=\"-220.56\" font-family=\"Times,serif\" font-size=\"14.00\">Element Code</text>\n",
       "</g>\n",
       "<!-- Item Code -->\n",
       "<g id=\"node3\" class=\"node\">\n",
       "<title>Item Code</title>\n",
       "<polygon fill=\"none\" stroke=\"black\" points=\"200.5,-121 200.5,-182 361.5,-182 361.5,-121 200.5,-121\"/>\n",
       "<text text-anchor=\"middle\" x=\"281\" y=\"-166.8\" font-family=\"Times,serif\" font-size=\"14.00\">Item Code (117 rows)</text>\n",
       "<polyline fill=\"none\" stroke=\"black\" points=\"200.5,-159 361.5,-159 \"/>\n",
       "<text text-anchor=\"start\" x=\"208.5\" y=\"-143.8\" font-family=\"Times,serif\" font-size=\"14.00\">Item Code : Integer; index</text>\n",
       "<text text-anchor=\"start\" x=\"208.5\" y=\"-128.8\" font-family=\"Times,serif\" font-size=\"14.00\">Item : Unknown</text>\n",
       "</g>\n",
       "<!-- Area Code_Element Code_Item Code&#45;&gt;Item Code -->\n",
       "<g id=\"edge2\" class=\"edge\">\n",
       "<title>Area Code_Element Code_Item Code&#45;&gt;Item Code</title>\n",
       "<path fill=\"none\" stroke=\"black\" d=\"M281,-241.13C281,-241.13 281,-192.4 281,-192.4\"/>\n",
       "<polygon fill=\"black\" stroke=\"black\" points=\"284.5,-192.4 281,-182.4 277.5,-192.4 284.5,-192.4\"/>\n",
       "<text text-anchor=\"middle\" x=\"252\" y=\"-220.56\" font-family=\"Times,serif\" font-size=\"14.00\">Item Code</text>\n",
       "</g>\n",
       "<!-- Area Code -->\n",
       "<g id=\"node4\" class=\"node\">\n",
       "<title>Area Code</title>\n",
       "<polygon fill=\"none\" stroke=\"black\" points=\"380,-98.5 380,-204.5 634,-204.5 634,-98.5 380,-98.5\"/>\n",
       "<text text-anchor=\"middle\" x=\"507\" y=\"-189.3\" font-family=\"Times,serif\" font-size=\"14.00\">Area Code (174 rows)</text>\n",
       "<polyline fill=\"none\" stroke=\"black\" points=\"380,-181.5 634,-181.5 \"/>\n",
       "<text text-anchor=\"start\" x=\"388\" y=\"-166.3\" font-family=\"Times,serif\" font-size=\"14.00\">Area Abbreviation : Unknown; foreign_key</text>\n",
       "<text text-anchor=\"start\" x=\"388\" y=\"-151.3\" font-family=\"Times,serif\" font-size=\"14.00\">Area Code : Integer; index</text>\n",
       "<text text-anchor=\"start\" x=\"388\" y=\"-136.3\" font-family=\"Times,serif\" font-size=\"14.00\">Area : Unknown</text>\n",
       "<text text-anchor=\"start\" x=\"388\" y=\"-121.3\" font-family=\"Times,serif\" font-size=\"14.00\">latitude : Double</text>\n",
       "<text text-anchor=\"start\" x=\"388\" y=\"-106.3\" font-family=\"Times,serif\" font-size=\"14.00\">longitude : Double</text>\n",
       "</g>\n",
       "<!-- Area Code_Element Code_Item Code&#45;&gt;Area Code -->\n",
       "<g id=\"edge1\" class=\"edge\">\n",
       "<title>Area Code_Element Code_Item Code&#45;&gt;Area Code</title>\n",
       "<path fill=\"none\" stroke=\"black\" d=\"M408.25,-241.13C408.25,-241.13 408.25,-214.81 408.25,-214.81\"/>\n",
       "<polygon fill=\"black\" stroke=\"black\" points=\"411.75,-214.81 408.25,-204.81 404.75,-214.81 411.75,-214.81\"/>\n",
       "<text text-anchor=\"middle\" x=\"378.75\" y=\"-216.77\" font-family=\"Times,serif\" font-size=\"14.00\">Area Code</text>\n",
       "</g>\n",
       "<!-- Area Abbreviation -->\n",
       "<g id=\"node5\" class=\"node\">\n",
       "<title>Area Abbreviation</title>\n",
       "<polygon fill=\"none\" stroke=\"black\" points=\"397.5,-0.5 397.5,-61.5 616.5,-61.5 616.5,-0.5 397.5,-0.5\"/>\n",
       "<text text-anchor=\"middle\" x=\"507\" y=\"-46.3\" font-family=\"Times,serif\" font-size=\"14.00\">Area Abbreviation (169 rows)</text>\n",
       "<polyline fill=\"none\" stroke=\"black\" points=\"397.5,-38.5 616.5,-38.5 \"/>\n",
       "<text text-anchor=\"start\" x=\"405.5\" y=\"-23.3\" font-family=\"Times,serif\" font-size=\"14.00\">Area Abbreviation : Unknown; index</text>\n",
       "<text text-anchor=\"start\" x=\"405.5\" y=\"-8.3\" font-family=\"Times,serif\" font-size=\"14.00\">Unit : Categorical</text>\n",
       "</g>\n",
       "<!-- Area Code&#45;&gt;Area Abbreviation -->\n",
       "<g id=\"edge4\" class=\"edge\">\n",
       "<title>Area Code&#45;&gt;Area Abbreviation</title>\n",
       "<path fill=\"none\" stroke=\"black\" d=\"M507,-98.3C507,-98.3 507,-71.8 507,-71.8\"/>\n",
       "<polygon fill=\"black\" stroke=\"black\" points=\"510.5,-71.8 507,-61.8 503.5,-71.8 510.5,-71.8\"/>\n",
       "<text text-anchor=\"middle\" x=\"456.5\" y=\"-73.85\" font-family=\"Times,serif\" font-size=\"14.00\">Area Abbreviation</text>\n",
       "</g>\n",
       "</g>\n",
       "</svg>\n"
      ],
      "text/plain": [
       "<graphviz.dot.Digraph at 0x13c927f70>"
      ]
     },
     "execution_count": 5,
     "metadata": {},
     "output_type": "execute_result"
    }
   ],
   "source": [
    "entityset.plot()"
   ]
  },
  {
   "cell_type": "code",
   "execution_count": 6,
   "metadata": {},
   "outputs": [
    {
     "data": {
      "text/plain": [
       "[<Feature: Area Code>,\n",
       " <Feature: Item Code>,\n",
       " <Feature: Element Code>,\n",
       " <Feature: Area Code.latitude>,\n",
       " <Feature: Area Code.longitude>,\n",
       " <Feature: Area Code.COUNT(Area Code_Element Code_Item Code)>,\n",
       " <Feature: Area Code.Area Abbreviation.Unit>,\n",
       " <Feature: Item Code.COUNT(Area Code_Element Code_Item Code)>,\n",
       " <Feature: Element Code.COUNT(Area Code_Element Code_Item Code)>]"
      ]
     },
     "execution_count": 6,
     "metadata": {},
     "output_type": "execute_result"
    }
   ],
   "source": [
    "import featuretools as ft\n",
    "fm, features = ft.dfs(entityset=entityset, target_dataframe_name='Area Code_Element Code_Item Code')\n",
    "features"
   ]
  }
 ],
 "metadata": {
  "kernelspec": {
   "display_name": "Python 3",
   "language": "python",
   "name": "python3"
  },
  "language_info": {
   "codemirror_mode": {
    "name": "ipython",
    "version": 3
   },
   "file_extension": ".py",
   "mimetype": "text/x-python",
   "name": "python",
   "nbconvert_exporter": "python",
   "pygments_lexer": "ipython3",
   "version": "3.8.9"
  }
 },
 "nbformat": 4,
 "nbformat_minor": 2
}
